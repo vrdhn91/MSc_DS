{
 "cells": [
  {
   "cell_type": "markdown",
   "id": "73d62c20",
   "metadata": {},
   "source": [
    "<h1 align=\"center\">Machine Learning for Bioinformatics</h1>\n",
    "<h3 align=\"center\">Freie Universität Berlin - SoS 2024</h3>\n",
    "<h5 align=\"center\">Exercise Notebook Week 9 - Artificial Neural Network Architectures</h5>\n",
    "<hr style=\"border:2px solid gray\">"
   ]
  },
  {
   "cell_type": "markdown",
   "id": "b670cd32",
   "metadata": {},
   "source": [
    "### Import python packages\n",
    "---"
   ]
  },
  {
   "cell_type": "code",
   "execution_count": 1,
   "id": "84afe847",
   "metadata": {},
   "outputs": [],
   "source": [
    "import numpy as np\n",
    "import matplotlib.pyplot as plt\n",
    "import abc\n",
    "import gzip\n",
    "import pickle\n",
    "from collections import Counter\n",
    "from typing import Any, Dict, List, Optional\n",
    "\n",
    "from sklearn.model_selection import StratifiedKFold\n",
    "from sklearn.metrics import roc_curve, roc_auc_score\n",
    "\n",
    "import torch\n",
    "from torch.utils.data import Dataset, DataLoader\n",
    "\n",
    "import pytorch_lightning as pl\n",
    "from pytorch_lightning.callbacks import ModelCheckpoint"
   ]
  },
  {
   "cell_type": "markdown",
   "id": "31f5ceae",
   "metadata": {},
   "source": [
    "---\n",
    "# Assignment 1: Vanishing gradient\n",
    "---"
   ]
  },
  {
   "cell_type": "markdown",
   "id": "4517a1e9",
   "metadata": {},
   "source": [
    "We generate some simple random data with $n = 1000$ samples and $p = 100$ features:"
   ]
  },
  {
   "cell_type": "code",
   "execution_count": 2,
   "id": "e1e15287",
   "metadata": {},
   "outputs": [],
   "source": [
    "n = 1000\n",
    "p = 100\n",
    "X = np.random.rand(n, p)\n",
    "y = np.random.randint(2, size=n).reshape(-1,1)"
   ]
  },
  {
   "cell_type": "code",
   "execution_count": 3,
   "id": "ef58c656",
   "metadata": {},
   "outputs": [],
   "source": [
    "def eval_gradient(model, X, y, n_hidden = 100, n_repeat = 10):\n",
    "    result = np.array([0.0] * n_hidden)\n",
    "    for i in range(n_hidden):\n",
    "        model.set_num_hidden_layers(i)\n",
    "        for _ in range(n_repeat):\n",
    "            result[i] += model.gradient_length(X, y, torch.nn.BCELoss())\n",
    "    result /= n_repeat\n",
    "\n",
    "    plt.plot(result)\n",
    "    plt.xlabel('number of hidden layers')\n",
    "    plt.ylabel('gradient magnitude')\n",
    "    plt.show()"
   ]
  },
  {
   "cell_type": "code",
   "execution_count": 4,
   "id": "d5cbeb21",
   "metadata": {},
   "outputs": [],
   "source": [
    "class GradientNetwork(abc.ABC, torch.nn.Module):\n",
    "    def __init__(self, size, n=1):\n",
    "        __metaclass__ = abc.ABCMeta\n",
    "        super(GradientNetwork, self).__init__()\n",
    "        self.linear1 = torch.nn.Linear(size, size)\n",
    "        self.linear2 = torch.nn.Linear(size, size)\n",
    "        self.linear3 = torch.nn.Linear(size, 1)\n",
    "        self.activation = torch.nn.Sigmoid()\n",
    "        self.n = n\n",
    "\n",
    "    @abc.abstractmethod\n",
    "    def forward(self, x):\n",
    "        return\n",
    "\n",
    "    def gradient_length(self, X, y, loss_fn):\n",
    "        self.zero_grad()\n",
    "        X = torch.tensor(X, dtype=torch.float32)\n",
    "        y = torch.tensor(y, dtype=torch.float32)\n",
    "        y_hat = self(X)\n",
    "        loss = loss_fn(y_hat, y)\n",
    "        loss.backward()\n",
    "        return torch.norm(self.linear1.weight.grad).item()\n",
    "\n",
    "    def set_num_hidden_layers(self, n):\n",
    "        self.n = n"
   ]
  },
  {
   "cell_type": "markdown",
   "id": "fd751281",
   "metadata": {},
   "source": [
    "---\n",
    "## 1.1 Vanishing gradient network\n",
    "---"
   ]
  },
  {
   "cell_type": "code",
   "execution_count": 5,
   "id": "54a399bb",
   "metadata": {},
   "outputs": [],
   "source": [
    "class VanishingGradientNetwork(GradientNetwork):\n",
    "    def __init__(self, size, n=1):\n",
    "        super(VanishingGradientNetwork, self).__init__(size, n=n)\n",
    "\n",
    "    def forward(self, x):\n",
    "        x = self.linear1(x)\n",
    "        x = self.activation(x)\n",
    "        for _ in range(self.n):\n",
    "            x = self.linear2(x)\n",
    "            x = self.activation(x)\n",
    "        x = self.linear3(x)\n",
    "        x = self.activation(x)\n",
    "        return x"
   ]
  },
  {
   "cell_type": "code",
   "execution_count": 6,
   "id": "6ed995c3",
   "metadata": {},
   "outputs": [
    {
     "data": {
      "image/png": "[encoded data removed]",
      "text/plain": [
       "<Figure size 640x480 with 1 Axes>"
      ]
     },
     "metadata": {},
     "output_type": "display_data"
    }
   ],
   "source": [
    "eval_gradient(VanishingGradientNetwork(p), X, y)"
   ]
  },
  {
   "cell_type": "markdown",
   "id": "f8d7f941",
   "metadata": {},
   "source": [
    "---\n",
    "## 1.2 Network with skip connections\n",
    "---"
   ]
  },
  {
   "cell_type": "code",
   "execution_count": 7,
   "id": "413de953",
   "metadata": {},
   "outputs": [],
   "source": [
    "class SkipGradientNetwork(GradientNetwork):\n",
    "    def __init__(self, size, n=1):\n",
    "        super(SkipGradientNetwork, self).__init__(size, n=n)\n",
    "\n",
    "    def forward(self, x):\n",
    "        x = self.linear1(x)\n",
    "        x = self.activation(x)\n",
    "        for _ in range(self.n):\n",
    "            y = self.linear2(x)\n",
    "            y = self.activation(y)\n",
    "            x = x + y\n",
    "        x = self.linear3(x)\n",
    "        x = self.activation(x)\n",
    "        return x"
   ]
  },
  {
   "cell_type": "code",
   "execution_count": 8,
   "id": "fc963dba",
   "metadata": {},
   "outputs": [
    {
     "data": {
      "image/png": "[encoded data removed]",
      "text/plain": [
       "<Figure size 640x480 with 1 Axes>"
      ]
     },
     "metadata": {},
     "output_type": "display_data"
    }
   ],
   "source": [
    "eval_gradient(SkipGradientNetwork(p), X, y)"
   ]
  },
  {
   "cell_type": "markdown",
   "id": "7394a519",
   "metadata": {},
   "source": [
    "---\n",
    "## 1.3 Network with batch norm\n",
    "---"
   ]
  },
  {
   "cell_type": "code",
   "execution_count": 9,
   "id": "39b1fea2",
   "metadata": {},
   "outputs": [],
   "source": [
    "class NormGradientNetwork(GradientNetwork):\n",
    "    def __init__(self, size, n=1):\n",
    "        super(NormGradientNetwork, self).__init__(size, n=n)\n",
    "        # Define a 1D batch normalization here!\n",
    "        #https://towardsdatascience.com/batch-norm-explained-visually-how-it-works-and-why-neural-networks-need-it-b18919692739\n",
    "        self.norm1d = torch.nn.BatchNorm1d(size)\n",
    "\n",
    "    def forward(self, x):\n",
    "        x = self.linear1(x)\n",
    "        x = self.activation(x)\n",
    "        for _ in range(self.n):\n",
    "            x = self.linear2(x)\n",
    "            # Apply the batch normalization\n",
    "            x = self.norm1d(x)\n",
    "\n",
    "            x = self.activation(x)\n",
    "        x = self.linear3(x)\n",
    "        x = self.activation(x)\n",
    "        return x"
   ]
  },
  {
   "cell_type": "code",
   "execution_count": 10,
   "id": "d4111696",
   "metadata": {},
   "outputs": [
    {
     "data": {
      "image/png": "[encoded data removed]",
      "text/plain": [
       "<Figure size 640x480 with 1 Axes>"
      ]
     },
     "metadata": {},
     "output_type": "display_data"
    }
   ],
   "source": [
    "eval_gradient(NormGradientNetwork(p), X, y)"
   ]
  },
  {
   "cell_type": "markdown",
   "id": "7b1af171",
   "metadata": {},
   "source": [
    "---\n",
    "## 1.4 ReLU activation\n",
    "---"
   ]
  },
  {
   "cell_type": "code",
   "execution_count": 11,
   "id": "5fe2ddf5",
   "metadata": {},
   "outputs": [],
   "source": [
    "class ReluGradientNetwork(GradientNetwork):\n",
    "    def __init__(self, size, n=1):\n",
    "        super(ReluGradientNetwork, self).__init__(size, n=n)\n",
    "        # Define a ReLU activation\n",
    "        self.relu_act = torch.nn.ReLU()\n",
    "\n",
    "    def forward(self, x):\n",
    "        x = self.linear1(x)\n",
    "        x = self.activation(x)\n",
    "        for _ in range(self.n):\n",
    "            x = self.linear2(x)\n",
    "            # Apply the ReLU activation\n",
    "            x = self.relu_act(x)\n",
    "\n",
    "        x = self.linear3(x)\n",
    "        x = self.activation(x)\n",
    "        return x"
   ]
  },
  {
   "cell_type": "code",
   "execution_count": 12,
   "id": "7b63b2cd",
   "metadata": {},
   "outputs": [
    {
     "data": {
      "image/png": "[encoded data removed]",
      "text/plain": [
       "<Figure size 640x480 with 1 Axes>"
      ]
     },
     "metadata": {},
     "output_type": "display_data"
    }
   ],
   "source": [
    "eval_gradient(ReluGradientNetwork(p), X, y)"
   ]
  },
  {
   "cell_type": "markdown",
   "id": "ef259907",
   "metadata": {},
   "source": [
    "---\n",
    "# Assignment 2: Prediction of active enhancers with CNNs\n",
    "---"
   ]
  },
  {
   "cell_type": "markdown",
   "id": "dee75dc1",
   "metadata": {},
   "source": [
    "---\n",
    "## 2.1 Torch dataset\n",
    "---"
   ]
  },
  {
   "cell_type": "code",
   "execution_count": 13,
   "id": "bb098d78",
   "metadata": {},
   "outputs": [],
   "source": [
    "class EnhancerData(Dataset):\n",
    "    def __init__(self, path_to_data = 'exercise-09-data/enhancer_liver_onehot_balanced.pkl.gz'):\n",
    "        \n",
    "        ## import the dataset \n",
    "        with gzip.open(path_to_data, 'rb') as f:\n",
    "            records, labels = pickle.load(f)\n",
    "        # Convert records in one-hot format to a numeric matrix, which can be used as input to our model\n",
    "        records = np.array(records, dtype=np.float32)\n",
    "        # we will use the 1D convolution which takes input in format(data size, channels, seq length) - transpose\n",
    "        self.X = np.transpose(records, (0, 2, 1))\n",
    "        self.X = torch.tensor(self.X)\n",
    "        # Create a vector on numeric labels\n",
    "        self.y = labels.astype('float32').reshape(-1,1)\n",
    "        self.y = torch.tensor(self.y)\n",
    "\n",
    "    def __len__(self):\n",
    "        return len(self.X)\n",
    "\n",
    "    def __getitem__(self, idx):\n",
    "        return {'X': self.X[idx], 'y': self.y[idx]}"
   ]
  },
  {
   "cell_type": "code",
   "execution_count": 14,
   "id": "bffcaa52",
   "metadata": {},
   "outputs": [],
   "source": [
    "def get_seq(seq):\n",
    "   labels_again = np.argmax(seq, axis =0)\n",
    "   labels_again = ['A' if i ==0 else ('C' if i==1 else('G' if i ==2 else('T')))for i in labels_again]\n",
    "   return ''.join(labels_again)"
   ]
  },
  {
   "cell_type": "code",
   "execution_count": 15,
   "id": "7b40fb04",
   "metadata": {},
   "outputs": [
    {
     "data": {
      "image/png": "[encoded data removed]",
      "text/plain": [
       "<Figure size 640x480 with 1 Axes>"
      ]
     },
     "metadata": {},
     "output_type": "display_data"
    }
   ],
   "source": [
    "enhancer_data = EnhancerData()\n",
    "\n",
    "plt.pie(Counter(enhancer_data.y[:,0].cpu().numpy()).values(), labels = [0, 1])\n",
    "plt.show()"
   ]
  },
  {
   "cell_type": "markdown",
   "id": "05364214",
   "metadata": {},
   "source": [
    "---\n",
    "## 2.2 Lightning data\n",
    "---"
   ]
  },
  {
   "cell_type": "code",
   "execution_count": 16,
   "id": "4c8f643e",
   "metadata": {},
   "outputs": [],
   "source": [
    "class LitEnhancerData(pl.LightningDataModule):\n",
    "    def __init__(self, n_splits = 5, val_size = 0.2, batch_size = 32):\n",
    "        super().__init__()\n",
    "        self.val_size   = val_size\n",
    "        self.batch_size = batch_size\n",
    "        self.data       = EnhancerData()\n",
    "        self.splits     = list(StratifiedKFold(n_splits).split(self.data.X, self.data.y))\n",
    "        self.n_splits   = n_splits\n",
    "\n",
    "    def setup_fold(self, k):\n",
    "        self.k = k\n",
    "\n",
    "    def setup(self, stage: Optional[str] = None):\n",
    "        train_index, test_index = self.splits[self.k]\n",
    "        # Split the data into training and testing\n",
    "        data_size_val   = int(len(train_index)*self.val_size)\n",
    "        data_size_train = len(train_index) - data_size_val\n",
    "        data_train      = torch.utils.data.Subset(self.data, train_index)\n",
    "        data_test       = torch.utils.data.Subset(self.data, test_index )\n",
    "        data_train, data_val = torch.utils.data.random_split(data_train, [data_size_train, data_size_val])\n",
    "        self.data_train = data_train\n",
    "        self.data_test  = data_test\n",
    "        self.data_val   = data_val\n",
    "\n",
    "    def train_dataloader(self):\n",
    "        return DataLoader(self.data_train, batch_size=self.batch_size, num_workers=0)#You should use num_workers=0 everywhere, otherwise you might get an error\n",
    "\n",
    "    def val_dataloader(self):\n",
    "        return DataLoader(self.data_val, batch_size=self.batch_size, num_workers=0)#You should use num_workers=0 everywhere, otherwise you might get an error\n",
    "\n",
    "    def test_dataloader(self):\n",
    "        return DataLoader(self.data_test, batch_size=self.batch_size, num_workers=0)#You should use num_workers=0 everywhere, otherwise you might get an error"
   ]
  },
  {
   "cell_type": "markdown",
   "id": "10a6a787",
   "metadata": {},
   "source": [
    "---\n",
    "## 2.3 Lightning utilities\n",
    "---"
   ]
  },
  {
   "cell_type": "code",
   "execution_count": 17,
   "id": "948f918a",
   "metadata": {},
   "outputs": [],
   "source": [
    "import logging\n",
    "logging.getLogger(\"pytorch_lightning\").setLevel(logging.ERROR)\n",
    "\n",
    "import warnings\n",
    "warnings.filterwarnings(\"ignore\", \".*does not have many workers.*\")"
   ]
  },
  {
   "cell_type": "code",
   "execution_count": 18,
   "id": "5038fab5",
   "metadata": {},
   "outputs": [],
   "source": [
    "class LitMetricTracker(pl.callbacks.Callback):\n",
    "    def __init__(self):\n",
    "        self.val_error_batch   = []\n",
    "        self.val_error         = []\n",
    "        self.train_error_batch = []\n",
    "        self.train_error       = []\n",
    "        self.test_y            = []\n",
    "        self.test_y_hat        = []\n",
    "\n",
    "    def on_train_batch_end(self, trainer, pl_module, outputs, batch, batch_idx):\n",
    "        self.train_error_batch.append(outputs['loss'].item())\n",
    "\n",
    "    def on_train_epoch_end(self, *args, **kwargs):\n",
    "        self.train_error.append(torch.mean(torch.tensor(self.train_error_batch)).item())\n",
    "        self.train_error_batch = []\n",
    "\n",
    "    def on_validation_batch_end(self, trainer, pl_module, outputs, batch, batch_idx):\n",
    "        self.val_error_batch.append(outputs['val_loss'].item())\n",
    "\n",
    "    def on_validation_epoch_end(self, trainer, pl_module):\n",
    "        self.val_error.append(torch.mean(torch.tensor(self.val_error_batch)).item())\n",
    "        self.val_error_batch = []\n",
    "\n",
    "    def on_test_batch_end(self, trainer, pl_module, outputs, batch, batch_idx):\n",
    "        self.test_y    .append(outputs['y'    ].detach().cpu())\n",
    "        self.test_y_hat.append(outputs['y_hat'].detach().cpu())\n",
    "\n",
    "    @property\n",
    "    def test_predictions(self):\n",
    "        y     = torch.cat(self.test_y)\n",
    "        y_hat = torch.cat(self.test_y_hat)\n",
    "        return y, y_hat"
   ]
  },
  {
   "cell_type": "code",
   "execution_count": 19,
   "id": "a0c90909",
   "metadata": {},
   "outputs": [],
   "source": [
    "class LitProgressBar(pl.callbacks.progress.TQDMProgressBar):\n",
    "    # Disable validation progress bar\n",
    "    def on_validation_start(self, trainer, pl_module):\n",
    "        pass\n",
    "    def on_validation_end(self, trainer, pl_module):\n",
    "        pass"
   ]
  },
  {
   "cell_type": "markdown",
   "id": "9f0a310c",
   "metadata": {},
   "source": [
    "---\n",
    "## 1.3 Torch Network Module\n",
    "---"
   ]
  },
  {
   "cell_type": "markdown",
   "id": "f40d6fa5",
   "metadata": {},
   "source": [
    "With Lightning the implementation of the model stays within a Torch module. We want to implement a CNN model with two convolutional layers. Complete the implementation with the following layers (you must keep the exact sequential order):\n",
    "\n",
    "* 1D convolutional layer with 4 input and 100 output channels. This means that we are using 100 kernels in out convolution. Set the stride to 1 and use a padding of 0\n",
    "* 1D batch normalization layer\n",
    "* Leaky ReLU activation\n",
    "* Max pooling layer with a kernel size of 2, stride set to None and a padding of 0\n",
    "* 1D convolutional layer with 100 input and 10 output channels. The remaining parameters are identical to the first convolutional layer\n",
    "* 1D batch normalization layer\n",
    "* Leaky ReLU activation\n",
    "\n",
    "The output of the convolutional layers is first averaged and then given as input to a dense neural network for computing the final prediction."
   ]
  },
  {
   "cell_type": "code",
   "execution_count": 25,
   "id": "5d50fa1b",
   "metadata": {},
   "outputs": [],
   "source": [
    "class DetectActiveEnhancersNetwork(torch.nn.Module):\n",
    "    def __init__(self):\n",
    "        super().__init__()\n",
    "        self.convolutional_sequence = torch.nn.Sequential(\n",
    "            # Complete the implementation of the convolutional network\n",
    "            torch.nn.Conv1d(4, 100, 2, stride=1, padding=0), #kernel size = 2\n",
    "            torch.nn.BatchNorm1d(100), #number of features\n",
    "            torch.nn.LeakyReLU(),\n",
    "            torch.nn.MaxPool1d(2, stride=None, padding=0),\n",
    "            torch.nn.Conv1d(100, 10, 2, stride=1, padding=0),\n",
    "            torch.nn.BatchNorm1d(10),\n",
    "            torch.nn.LeakyReLU()\n",
    "        )\n",
    "        self.linear_sequence = torch.nn.Sequential(   \n",
    "            torch.nn.Linear(10,1),\n",
    "            torch.nn.Sigmoid()\n",
    "        )\n",
    "\n",
    "    def forward(self, x):\n",
    "        x = self.convolutional_sequence(x)\n",
    "        # Average output of convolutional layers\n",
    "        x = x.mean(2)\n",
    "        x = self.linear_sequence(x)\n",
    "        return x"
   ]
  },
  {
   "cell_type": "markdown",
   "id": "375c90df",
   "metadata": {},
   "source": [
    "---\n",
    "## 1.4 Lightning Module: A wrapper for training pytorch modules\n",
    "---"
   ]
  },
  {
   "cell_type": "code",
   "execution_count": 26,
   "id": "dad97763",
   "metadata": {},
   "outputs": [],
   "source": [
    "class LitDetectActiveEnhancersNetwork(pl.LightningModule):\n",
    "    def __init__(self, lr=0.001):\n",
    "        super().__init__()\n",
    "        # Save all hyperparameters to `hparams` (e.g. lr)\n",
    "        self.save_hyperparameters()\n",
    "        self.loss = torch.nn.BCELoss()\n",
    "        self.train_loss = []\n",
    "        self.val_loss   = []\n",
    "        self.model = DetectActiveEnhancersNetwork()\n",
    "    \n",
    "    def configure_optimizers(self):\n",
    "        optimizer = torch.optim.Adam(self.parameters(), lr=self.hparams[\"lr\"] )\n",
    "        scheduler = {\"scheduler\": torch.optim.lr_scheduler.ReduceLROnPlateau(\n",
    "                        optimizer,\n",
    "                        patience=5,\n",
    "                        mode='min',\n",
    "                        verbose=True),\n",
    "                    \"interval\": \"epoch\",\n",
    "                    'monitor': 'val_loss'\n",
    "                    }\n",
    "        return [optimizer], [scheduler]\n",
    "\n",
    "    def forward(self, x):\n",
    "        return self.model.forward(x)\n",
    "\n",
    "    def training_step(self, batch, batch_index):\n",
    "        \"\"\"Train model on a single batch\"\"\"\n",
    "        X_batch = batch['X']\n",
    "        y_batch = batch['y']\n",
    "        y_hat   = self(X_batch)\n",
    "        loss    = self.loss(y_hat, y_batch)\n",
    "        # Send metrics to progress bar. We also don't want results\n",
    "        # logged at every step, but let the logger accumulate the\n",
    "        # results at the end of every epoch\n",
    "        self.log(\"loss\", loss, on_step=False, on_epoch=True, prog_bar=True)\n",
    "        # Return whatever we might need in callbacks. Lightning automtically minimizes\n",
    "        # the item called 'loss', which must be present in the returned dictionary\n",
    "        return {'loss': loss}\n",
    "\n",
    "    def validation_step(self, batch, batch_index):\n",
    "        \"\"\"Validate model on a single batch\"\"\"\n",
    "        X_batch = batch['X']\n",
    "        y_batch = batch['y']\n",
    "        y_hat   = self(X_batch)\n",
    "        loss    = self.loss(y_hat, y_batch)\n",
    "        # Send metrics to progress bar. We also don't want results\n",
    "        # logged at every step, but let the logger accumulate the\n",
    "        # results at the end of every epoch\n",
    "        self.log(\"val_loss\", loss, on_step=False, on_epoch=True, prog_bar=True)\n",
    "        # Return whatever we might need in callbacks\n",
    "        return {'val_loss': loss}\n",
    "\n",
    "    def test_step(self, batch, batch_index):\n",
    "        \"\"\"Test model on a single batch\"\"\"\n",
    "        X_batch = batch['X']\n",
    "        y_batch = batch['y']\n",
    "        y_hat   = self(X_batch)\n",
    "        loss    = self.loss(y_hat, y_batch)\n",
    "        # Log whatever we want to aggregate later\n",
    "        self.log('test_loss', loss, batch_size=len(batch))\n",
    "        # Return predictions\n",
    "        return {'y': y_batch, 'y_hat': y_hat, 'test_loss': loss}"
   ]
  },
  {
   "cell_type": "markdown",
   "id": "f31b319b",
   "metadata": {},
   "source": [
    "---\n",
    "## 1.5 Main cross-validation loop\n",
    "---"
   ]
  },
  {
   "cell_type": "code",
   "execution_count": 27,
   "id": "f4b28002",
   "metadata": {},
   "outputs": [
    {
     "name": "stderr",
     "output_type": "stream",
     "text": [
      "C:\\Users\\vevit\\anaconda3\\Lib\\site-packages\\pytorch_lightning\\callbacks\\model_checkpoint.py:652: Checkpoint directory C:\\Users\\vevit\\Documents\\DS_Workspace\\MLinBioinformatics\\Project7\\09-ann-architectures-exercise\\checkpoints exists and is not empty.\n"
     ]
    },
    {
     "data": {
      "application/vnd.jupyter.widget-view+json": {
       "model_id": "b311498f600843008b702c1f07066c53",
       "version_major": 2,
       "version_minor": 0
      },
      "text/plain": [
       "Sanity Checking: |                                                                               | 0/? [00:00<…"
      ]
     },
     "metadata": {},
     "output_type": "display_data"
    },
    {
     "ename": "RuntimeError",
     "evalue": "Given groups=1, weight of size [10, 100, 2], expected input[32, 50, 499] to have 100 channels, but got 50 channels instead",
     "output_type": "error",
     "traceback": [
      "\u001b[1;31m---------------------------------------------------------------------------\u001b[0m",
      "\u001b[1;31mRuntimeError\u001b[0m                              Traceback (most recent call last)",
      "Cell \u001b[1;32mIn[27], line 20\u001b[0m\n\u001b[0;32m     17\u001b[0m \u001b[38;5;66;03m# Train model on train data and use validation data for early stopping, change accelerator\u001b[39;00m\n\u001b[0;32m     18\u001b[0m \u001b[38;5;66;03m# to 'cpu' if you do not have a GPU that can be used for computations\u001b[39;00m\n\u001b[0;32m     19\u001b[0m trainer \u001b[38;5;241m=\u001b[39m pl\u001b[38;5;241m.\u001b[39mTrainer(max_epochs\u001b[38;5;241m=\u001b[39m\u001b[38;5;241m1000\u001b[39m, accelerator\u001b[38;5;241m=\u001b[39m\u001b[38;5;124m'\u001b[39m\u001b[38;5;124mgpu\u001b[39m\u001b[38;5;124m'\u001b[39m, devices\u001b[38;5;241m=\u001b[39m\u001b[38;5;241m1\u001b[39m, callbacks\u001b[38;5;241m=\u001b[39m[pb, es, mt, cp], enable_progress_bar\u001b[38;5;241m=\u001b[39m\u001b[38;5;28;01mTrue\u001b[39;00m, logger\u001b[38;5;241m=\u001b[39m\u001b[38;5;28;01mFalse\u001b[39;00m)\n\u001b[1;32m---> 20\u001b[0m trainer\u001b[38;5;241m.\u001b[39mfit(model, data)\n\u001b[0;32m     22\u001b[0m \u001b[38;5;66;03m# Get best model from checkpoint\u001b[39;00m\n\u001b[0;32m     23\u001b[0m \u001b[38;5;66;03m#model = model.load_from_checkpoint(cp.best_model_path)\u001b[39;00m\n\u001b[0;32m     24\u001b[0m model \u001b[38;5;241m=\u001b[39m LitDetectActiveEnhancersNetwork\u001b[38;5;241m.\u001b[39mload_from_checkpoint(cp\u001b[38;5;241m.\u001b[39mbest_model_path)\n",
      "File \u001b[1;32m~\\anaconda3\\Lib\\site-packages\\pytorch_lightning\\trainer\\trainer.py:543\u001b[0m, in \u001b[0;36mTrainer.fit\u001b[1;34m(self, model, train_dataloaders, val_dataloaders, datamodule, ckpt_path)\u001b[0m\n\u001b[0;32m    541\u001b[0m \u001b[38;5;28mself\u001b[39m\u001b[38;5;241m.\u001b[39mstate\u001b[38;5;241m.\u001b[39mstatus \u001b[38;5;241m=\u001b[39m TrainerStatus\u001b[38;5;241m.\u001b[39mRUNNING\n\u001b[0;32m    542\u001b[0m \u001b[38;5;28mself\u001b[39m\u001b[38;5;241m.\u001b[39mtraining \u001b[38;5;241m=\u001b[39m \u001b[38;5;28;01mTrue\u001b[39;00m\n\u001b[1;32m--> 543\u001b[0m call\u001b[38;5;241m.\u001b[39m_call_and_handle_interrupt(\n\u001b[0;32m    544\u001b[0m     \u001b[38;5;28mself\u001b[39m, \u001b[38;5;28mself\u001b[39m\u001b[38;5;241m.\u001b[39m_fit_impl, model, train_dataloaders, val_dataloaders, datamodule, ckpt_path\n\u001b[0;32m    545\u001b[0m )\n",
      "File \u001b[1;32m~\\anaconda3\\Lib\\site-packages\\pytorch_lightning\\trainer\\call.py:44\u001b[0m, in \u001b[0;36m_call_and_handle_interrupt\u001b[1;34m(trainer, trainer_fn, *args, **kwargs)\u001b[0m\n\u001b[0;32m     42\u001b[0m     \u001b[38;5;28;01mif\u001b[39;00m trainer\u001b[38;5;241m.\u001b[39mstrategy\u001b[38;5;241m.\u001b[39mlauncher \u001b[38;5;129;01mis\u001b[39;00m \u001b[38;5;129;01mnot\u001b[39;00m \u001b[38;5;28;01mNone\u001b[39;00m:\n\u001b[0;32m     43\u001b[0m         \u001b[38;5;28;01mreturn\u001b[39;00m trainer\u001b[38;5;241m.\u001b[39mstrategy\u001b[38;5;241m.\u001b[39mlauncher\u001b[38;5;241m.\u001b[39mlaunch(trainer_fn, \u001b[38;5;241m*\u001b[39margs, trainer\u001b[38;5;241m=\u001b[39mtrainer, \u001b[38;5;241m*\u001b[39m\u001b[38;5;241m*\u001b[39mkwargs)\n\u001b[1;32m---> 44\u001b[0m     \u001b[38;5;28;01mreturn\u001b[39;00m trainer_fn(\u001b[38;5;241m*\u001b[39margs, \u001b[38;5;241m*\u001b[39m\u001b[38;5;241m*\u001b[39mkwargs)\n\u001b[0;32m     46\u001b[0m \u001b[38;5;28;01mexcept\u001b[39;00m _TunerExitException:\n\u001b[0;32m     47\u001b[0m     _call_teardown_hook(trainer)\n",
      "File \u001b[1;32m~\\anaconda3\\Lib\\site-packages\\pytorch_lightning\\trainer\\trainer.py:579\u001b[0m, in \u001b[0;36mTrainer._fit_impl\u001b[1;34m(self, model, train_dataloaders, val_dataloaders, datamodule, ckpt_path)\u001b[0m\n\u001b[0;32m    572\u001b[0m \u001b[38;5;28;01massert\u001b[39;00m \u001b[38;5;28mself\u001b[39m\u001b[38;5;241m.\u001b[39mstate\u001b[38;5;241m.\u001b[39mfn \u001b[38;5;129;01mis\u001b[39;00m \u001b[38;5;129;01mnot\u001b[39;00m \u001b[38;5;28;01mNone\u001b[39;00m\n\u001b[0;32m    573\u001b[0m ckpt_path \u001b[38;5;241m=\u001b[39m \u001b[38;5;28mself\u001b[39m\u001b[38;5;241m.\u001b[39m_checkpoint_connector\u001b[38;5;241m.\u001b[39m_select_ckpt_path(\n\u001b[0;32m    574\u001b[0m     \u001b[38;5;28mself\u001b[39m\u001b[38;5;241m.\u001b[39mstate\u001b[38;5;241m.\u001b[39mfn,\n\u001b[0;32m    575\u001b[0m     ckpt_path,\n\u001b[0;32m    576\u001b[0m     model_provided\u001b[38;5;241m=\u001b[39m\u001b[38;5;28;01mTrue\u001b[39;00m,\n\u001b[0;32m    577\u001b[0m     model_connected\u001b[38;5;241m=\u001b[39m\u001b[38;5;28mself\u001b[39m\u001b[38;5;241m.\u001b[39mlightning_module \u001b[38;5;129;01mis\u001b[39;00m \u001b[38;5;129;01mnot\u001b[39;00m \u001b[38;5;28;01mNone\u001b[39;00m,\n\u001b[0;32m    578\u001b[0m )\n\u001b[1;32m--> 579\u001b[0m \u001b[38;5;28mself\u001b[39m\u001b[38;5;241m.\u001b[39m_run(model, ckpt_path\u001b[38;5;241m=\u001b[39mckpt_path)\n\u001b[0;32m    581\u001b[0m \u001b[38;5;28;01massert\u001b[39;00m \u001b[38;5;28mself\u001b[39m\u001b[38;5;241m.\u001b[39mstate\u001b[38;5;241m.\u001b[39mstopped\n\u001b[0;32m    582\u001b[0m \u001b[38;5;28mself\u001b[39m\u001b[38;5;241m.\u001b[39mtraining \u001b[38;5;241m=\u001b[39m \u001b[38;5;28;01mFalse\u001b[39;00m\n",
      "File \u001b[1;32m~\\anaconda3\\Lib\\site-packages\\pytorch_lightning\\trainer\\trainer.py:986\u001b[0m, in \u001b[0;36mTrainer._run\u001b[1;34m(self, model, ckpt_path)\u001b[0m\n\u001b[0;32m    981\u001b[0m \u001b[38;5;28mself\u001b[39m\u001b[38;5;241m.\u001b[39m_signal_connector\u001b[38;5;241m.\u001b[39mregister_signal_handlers()\n\u001b[0;32m    983\u001b[0m \u001b[38;5;66;03m# ----------------------------\u001b[39;00m\n\u001b[0;32m    984\u001b[0m \u001b[38;5;66;03m# RUN THE TRAINER\u001b[39;00m\n\u001b[0;32m    985\u001b[0m \u001b[38;5;66;03m# ----------------------------\u001b[39;00m\n\u001b[1;32m--> 986\u001b[0m results \u001b[38;5;241m=\u001b[39m \u001b[38;5;28mself\u001b[39m\u001b[38;5;241m.\u001b[39m_run_stage()\n\u001b[0;32m    988\u001b[0m \u001b[38;5;66;03m# ----------------------------\u001b[39;00m\n\u001b[0;32m    989\u001b[0m \u001b[38;5;66;03m# POST-Training CLEAN UP\u001b[39;00m\n\u001b[0;32m    990\u001b[0m \u001b[38;5;66;03m# ----------------------------\u001b[39;00m\n\u001b[0;32m    991\u001b[0m log\u001b[38;5;241m.\u001b[39mdebug(\u001b[38;5;124mf\u001b[39m\u001b[38;5;124m\"\u001b[39m\u001b[38;5;132;01m{\u001b[39;00m\u001b[38;5;28mself\u001b[39m\u001b[38;5;241m.\u001b[39m\u001b[38;5;18m__class__\u001b[39m\u001b[38;5;241m.\u001b[39m\u001b[38;5;18m__name__\u001b[39m\u001b[38;5;132;01m}\u001b[39;00m\u001b[38;5;124m: trainer tearing down\u001b[39m\u001b[38;5;124m\"\u001b[39m)\n",
      "File \u001b[1;32m~\\anaconda3\\Lib\\site-packages\\pytorch_lightning\\trainer\\trainer.py:1028\u001b[0m, in \u001b[0;36mTrainer._run_stage\u001b[1;34m(self)\u001b[0m\n\u001b[0;32m   1026\u001b[0m \u001b[38;5;28;01mif\u001b[39;00m \u001b[38;5;28mself\u001b[39m\u001b[38;5;241m.\u001b[39mtraining:\n\u001b[0;32m   1027\u001b[0m     \u001b[38;5;28;01mwith\u001b[39;00m isolate_rng():\n\u001b[1;32m-> 1028\u001b[0m         \u001b[38;5;28mself\u001b[39m\u001b[38;5;241m.\u001b[39m_run_sanity_check()\n\u001b[0;32m   1029\u001b[0m     \u001b[38;5;28;01mwith\u001b[39;00m torch\u001b[38;5;241m.\u001b[39mautograd\u001b[38;5;241m.\u001b[39mset_detect_anomaly(\u001b[38;5;28mself\u001b[39m\u001b[38;5;241m.\u001b[39m_detect_anomaly):\n\u001b[0;32m   1030\u001b[0m         \u001b[38;5;28mself\u001b[39m\u001b[38;5;241m.\u001b[39mfit_loop\u001b[38;5;241m.\u001b[39mrun()\n",
      "File \u001b[1;32m~\\anaconda3\\Lib\\site-packages\\pytorch_lightning\\trainer\\trainer.py:1057\u001b[0m, in \u001b[0;36mTrainer._run_sanity_check\u001b[1;34m(self)\u001b[0m\n\u001b[0;32m   1054\u001b[0m call\u001b[38;5;241m.\u001b[39m_call_callback_hooks(\u001b[38;5;28mself\u001b[39m, \u001b[38;5;124m\"\u001b[39m\u001b[38;5;124mon_sanity_check_start\u001b[39m\u001b[38;5;124m\"\u001b[39m)\n\u001b[0;32m   1056\u001b[0m \u001b[38;5;66;03m# run eval step\u001b[39;00m\n\u001b[1;32m-> 1057\u001b[0m val_loop\u001b[38;5;241m.\u001b[39mrun()\n\u001b[0;32m   1059\u001b[0m call\u001b[38;5;241m.\u001b[39m_call_callback_hooks(\u001b[38;5;28mself\u001b[39m, \u001b[38;5;124m\"\u001b[39m\u001b[38;5;124mon_sanity_check_end\u001b[39m\u001b[38;5;124m\"\u001b[39m)\n\u001b[0;32m   1061\u001b[0m \u001b[38;5;66;03m# reset logger connector\u001b[39;00m\n",
      "File \u001b[1;32m~\\anaconda3\\Lib\\site-packages\\pytorch_lightning\\loops\\utilities.py:182\u001b[0m, in \u001b[0;36m_no_grad_context.<locals>._decorator\u001b[1;34m(self, *args, **kwargs)\u001b[0m\n\u001b[0;32m    180\u001b[0m     context_manager \u001b[38;5;241m=\u001b[39m torch\u001b[38;5;241m.\u001b[39mno_grad\n\u001b[0;32m    181\u001b[0m \u001b[38;5;28;01mwith\u001b[39;00m context_manager():\n\u001b[1;32m--> 182\u001b[0m     \u001b[38;5;28;01mreturn\u001b[39;00m loop_run(\u001b[38;5;28mself\u001b[39m, \u001b[38;5;241m*\u001b[39margs, \u001b[38;5;241m*\u001b[39m\u001b[38;5;241m*\u001b[39mkwargs)\n",
      "File \u001b[1;32m~\\anaconda3\\Lib\\site-packages\\pytorch_lightning\\loops\\evaluation_loop.py:135\u001b[0m, in \u001b[0;36m_EvaluationLoop.run\u001b[1;34m(self)\u001b[0m\n\u001b[0;32m    133\u001b[0m     \u001b[38;5;28mself\u001b[39m\u001b[38;5;241m.\u001b[39mbatch_progress\u001b[38;5;241m.\u001b[39mis_last_batch \u001b[38;5;241m=\u001b[39m data_fetcher\u001b[38;5;241m.\u001b[39mdone\n\u001b[0;32m    134\u001b[0m     \u001b[38;5;66;03m# run step hooks\u001b[39;00m\n\u001b[1;32m--> 135\u001b[0m     \u001b[38;5;28mself\u001b[39m\u001b[38;5;241m.\u001b[39m_evaluation_step(batch, batch_idx, dataloader_idx, dataloader_iter)\n\u001b[0;32m    136\u001b[0m \u001b[38;5;28;01mexcept\u001b[39;00m \u001b[38;5;167;01mStopIteration\u001b[39;00m:\n\u001b[0;32m    137\u001b[0m     \u001b[38;5;66;03m# this needs to wrap the `*_step` call too (not just `next`) for `dataloader_iter` support\u001b[39;00m\n\u001b[0;32m    138\u001b[0m     \u001b[38;5;28;01mbreak\u001b[39;00m\n",
      "File \u001b[1;32m~\\anaconda3\\Lib\\site-packages\\pytorch_lightning\\loops\\evaluation_loop.py:396\u001b[0m, in \u001b[0;36m_EvaluationLoop._evaluation_step\u001b[1;34m(self, batch, batch_idx, dataloader_idx, dataloader_iter)\u001b[0m\n\u001b[0;32m    390\u001b[0m hook_name \u001b[38;5;241m=\u001b[39m \u001b[38;5;124m\"\u001b[39m\u001b[38;5;124mtest_step\u001b[39m\u001b[38;5;124m\"\u001b[39m \u001b[38;5;28;01mif\u001b[39;00m trainer\u001b[38;5;241m.\u001b[39mtesting \u001b[38;5;28;01melse\u001b[39;00m \u001b[38;5;124m\"\u001b[39m\u001b[38;5;124mvalidation_step\u001b[39m\u001b[38;5;124m\"\u001b[39m\n\u001b[0;32m    391\u001b[0m step_args \u001b[38;5;241m=\u001b[39m (\n\u001b[0;32m    392\u001b[0m     \u001b[38;5;28mself\u001b[39m\u001b[38;5;241m.\u001b[39m_build_step_args_from_hook_kwargs(hook_kwargs, hook_name)\n\u001b[0;32m    393\u001b[0m     \u001b[38;5;28;01mif\u001b[39;00m \u001b[38;5;129;01mnot\u001b[39;00m using_dataloader_iter\n\u001b[0;32m    394\u001b[0m     \u001b[38;5;28;01melse\u001b[39;00m (dataloader_iter,)\n\u001b[0;32m    395\u001b[0m )\n\u001b[1;32m--> 396\u001b[0m output \u001b[38;5;241m=\u001b[39m call\u001b[38;5;241m.\u001b[39m_call_strategy_hook(trainer, hook_name, \u001b[38;5;241m*\u001b[39mstep_args)\n\u001b[0;32m    398\u001b[0m \u001b[38;5;28mself\u001b[39m\u001b[38;5;241m.\u001b[39mbatch_progress\u001b[38;5;241m.\u001b[39mincrement_processed()\n\u001b[0;32m    400\u001b[0m \u001b[38;5;28;01mif\u001b[39;00m using_dataloader_iter:\n\u001b[0;32m    401\u001b[0m     \u001b[38;5;66;03m# update the hook kwargs now that the step method might have consumed the iterator\u001b[39;00m\n",
      "File \u001b[1;32m~\\anaconda3\\Lib\\site-packages\\pytorch_lightning\\trainer\\call.py:311\u001b[0m, in \u001b[0;36m_call_strategy_hook\u001b[1;34m(trainer, hook_name, *args, **kwargs)\u001b[0m\n\u001b[0;32m    308\u001b[0m     \u001b[38;5;28;01mreturn\u001b[39;00m \u001b[38;5;28;01mNone\u001b[39;00m\n\u001b[0;32m    310\u001b[0m \u001b[38;5;28;01mwith\u001b[39;00m trainer\u001b[38;5;241m.\u001b[39mprofiler\u001b[38;5;241m.\u001b[39mprofile(\u001b[38;5;124mf\u001b[39m\u001b[38;5;124m\"\u001b[39m\u001b[38;5;124m[Strategy]\u001b[39m\u001b[38;5;132;01m{\u001b[39;00mtrainer\u001b[38;5;241m.\u001b[39mstrategy\u001b[38;5;241m.\u001b[39m\u001b[38;5;18m__class__\u001b[39m\u001b[38;5;241m.\u001b[39m\u001b[38;5;18m__name__\u001b[39m\u001b[38;5;132;01m}\u001b[39;00m\u001b[38;5;124m.\u001b[39m\u001b[38;5;132;01m{\u001b[39;00mhook_name\u001b[38;5;132;01m}\u001b[39;00m\u001b[38;5;124m\"\u001b[39m):\n\u001b[1;32m--> 311\u001b[0m     output \u001b[38;5;241m=\u001b[39m fn(\u001b[38;5;241m*\u001b[39margs, \u001b[38;5;241m*\u001b[39m\u001b[38;5;241m*\u001b[39mkwargs)\n\u001b[0;32m    313\u001b[0m \u001b[38;5;66;03m# restore current_fx when nested context\u001b[39;00m\n\u001b[0;32m    314\u001b[0m pl_module\u001b[38;5;241m.\u001b[39m_current_fx_name \u001b[38;5;241m=\u001b[39m prev_fx_name\n",
      "File \u001b[1;32m~\\anaconda3\\Lib\\site-packages\\pytorch_lightning\\strategies\\strategy.py:411\u001b[0m, in \u001b[0;36mStrategy.validation_step\u001b[1;34m(self, *args, **kwargs)\u001b[0m\n\u001b[0;32m    409\u001b[0m \u001b[38;5;28;01mif\u001b[39;00m \u001b[38;5;28mself\u001b[39m\u001b[38;5;241m.\u001b[39mmodel \u001b[38;5;241m!=\u001b[39m \u001b[38;5;28mself\u001b[39m\u001b[38;5;241m.\u001b[39mlightning_module:\n\u001b[0;32m    410\u001b[0m     \u001b[38;5;28;01mreturn\u001b[39;00m \u001b[38;5;28mself\u001b[39m\u001b[38;5;241m.\u001b[39m_forward_redirection(\u001b[38;5;28mself\u001b[39m\u001b[38;5;241m.\u001b[39mmodel, \u001b[38;5;28mself\u001b[39m\u001b[38;5;241m.\u001b[39mlightning_module, \u001b[38;5;124m\"\u001b[39m\u001b[38;5;124mvalidation_step\u001b[39m\u001b[38;5;124m\"\u001b[39m, \u001b[38;5;241m*\u001b[39margs, \u001b[38;5;241m*\u001b[39m\u001b[38;5;241m*\u001b[39mkwargs)\n\u001b[1;32m--> 411\u001b[0m \u001b[38;5;28;01mreturn\u001b[39;00m \u001b[38;5;28mself\u001b[39m\u001b[38;5;241m.\u001b[39mlightning_module\u001b[38;5;241m.\u001b[39mvalidation_step(\u001b[38;5;241m*\u001b[39margs, \u001b[38;5;241m*\u001b[39m\u001b[38;5;241m*\u001b[39mkwargs)\n",
      "Cell \u001b[1;32mIn[26], line 44\u001b[0m, in \u001b[0;36mLitDetectActiveEnhancersNetwork.validation_step\u001b[1;34m(self, batch, batch_index)\u001b[0m\n\u001b[0;32m     42\u001b[0m X_batch \u001b[38;5;241m=\u001b[39m batch[\u001b[38;5;124m'\u001b[39m\u001b[38;5;124mX\u001b[39m\u001b[38;5;124m'\u001b[39m]\n\u001b[0;32m     43\u001b[0m y_batch \u001b[38;5;241m=\u001b[39m batch[\u001b[38;5;124m'\u001b[39m\u001b[38;5;124my\u001b[39m\u001b[38;5;124m'\u001b[39m]\n\u001b[1;32m---> 44\u001b[0m y_hat   \u001b[38;5;241m=\u001b[39m \u001b[38;5;28mself\u001b[39m(X_batch)\n\u001b[0;32m     45\u001b[0m loss    \u001b[38;5;241m=\u001b[39m \u001b[38;5;28mself\u001b[39m\u001b[38;5;241m.\u001b[39mloss(y_hat, y_batch)\n\u001b[0;32m     46\u001b[0m \u001b[38;5;66;03m# Send metrics to progress bar. We also don't want results\u001b[39;00m\n\u001b[0;32m     47\u001b[0m \u001b[38;5;66;03m# logged at every step, but let the logger accumulate the\u001b[39;00m\n\u001b[0;32m     48\u001b[0m \u001b[38;5;66;03m# results at the end of every epoch\u001b[39;00m\n",
      "File \u001b[1;32m~\\anaconda3\\Lib\\site-packages\\torch\\nn\\modules\\module.py:1518\u001b[0m, in \u001b[0;36mModule._wrapped_call_impl\u001b[1;34m(self, *args, **kwargs)\u001b[0m\n\u001b[0;32m   1516\u001b[0m     \u001b[38;5;28;01mreturn\u001b[39;00m \u001b[38;5;28mself\u001b[39m\u001b[38;5;241m.\u001b[39m_compiled_call_impl(\u001b[38;5;241m*\u001b[39margs, \u001b[38;5;241m*\u001b[39m\u001b[38;5;241m*\u001b[39mkwargs)  \u001b[38;5;66;03m# type: ignore[misc]\u001b[39;00m\n\u001b[0;32m   1517\u001b[0m \u001b[38;5;28;01melse\u001b[39;00m:\n\u001b[1;32m-> 1518\u001b[0m     \u001b[38;5;28;01mreturn\u001b[39;00m \u001b[38;5;28mself\u001b[39m\u001b[38;5;241m.\u001b[39m_call_impl(\u001b[38;5;241m*\u001b[39margs, \u001b[38;5;241m*\u001b[39m\u001b[38;5;241m*\u001b[39mkwargs)\n",
      "File \u001b[1;32m~\\anaconda3\\Lib\\site-packages\\torch\\nn\\modules\\module.py:1527\u001b[0m, in \u001b[0;36mModule._call_impl\u001b[1;34m(self, *args, **kwargs)\u001b[0m\n\u001b[0;32m   1522\u001b[0m \u001b[38;5;66;03m# If we don't have any hooks, we want to skip the rest of the logic in\u001b[39;00m\n\u001b[0;32m   1523\u001b[0m \u001b[38;5;66;03m# this function, and just call forward.\u001b[39;00m\n\u001b[0;32m   1524\u001b[0m \u001b[38;5;28;01mif\u001b[39;00m \u001b[38;5;129;01mnot\u001b[39;00m (\u001b[38;5;28mself\u001b[39m\u001b[38;5;241m.\u001b[39m_backward_hooks \u001b[38;5;129;01mor\u001b[39;00m \u001b[38;5;28mself\u001b[39m\u001b[38;5;241m.\u001b[39m_backward_pre_hooks \u001b[38;5;129;01mor\u001b[39;00m \u001b[38;5;28mself\u001b[39m\u001b[38;5;241m.\u001b[39m_forward_hooks \u001b[38;5;129;01mor\u001b[39;00m \u001b[38;5;28mself\u001b[39m\u001b[38;5;241m.\u001b[39m_forward_pre_hooks\n\u001b[0;32m   1525\u001b[0m         \u001b[38;5;129;01mor\u001b[39;00m _global_backward_pre_hooks \u001b[38;5;129;01mor\u001b[39;00m _global_backward_hooks\n\u001b[0;32m   1526\u001b[0m         \u001b[38;5;129;01mor\u001b[39;00m _global_forward_hooks \u001b[38;5;129;01mor\u001b[39;00m _global_forward_pre_hooks):\n\u001b[1;32m-> 1527\u001b[0m     \u001b[38;5;28;01mreturn\u001b[39;00m forward_call(\u001b[38;5;241m*\u001b[39margs, \u001b[38;5;241m*\u001b[39m\u001b[38;5;241m*\u001b[39mkwargs)\n\u001b[0;32m   1529\u001b[0m \u001b[38;5;28;01mtry\u001b[39;00m:\n\u001b[0;32m   1530\u001b[0m     result \u001b[38;5;241m=\u001b[39m \u001b[38;5;28;01mNone\u001b[39;00m\n",
      "Cell \u001b[1;32mIn[26], line 24\u001b[0m, in \u001b[0;36mLitDetectActiveEnhancersNetwork.forward\u001b[1;34m(self, x)\u001b[0m\n\u001b[0;32m     23\u001b[0m \u001b[38;5;28;01mdef\u001b[39;00m \u001b[38;5;21mforward\u001b[39m(\u001b[38;5;28mself\u001b[39m, x):\n\u001b[1;32m---> 24\u001b[0m     \u001b[38;5;28;01mreturn\u001b[39;00m \u001b[38;5;28mself\u001b[39m\u001b[38;5;241m.\u001b[39mmodel\u001b[38;5;241m.\u001b[39mforward(x)\n",
      "Cell \u001b[1;32mIn[25], line 21\u001b[0m, in \u001b[0;36mDetectActiveEnhancersNetwork.forward\u001b[1;34m(self, x)\u001b[0m\n\u001b[0;32m     20\u001b[0m \u001b[38;5;28;01mdef\u001b[39;00m \u001b[38;5;21mforward\u001b[39m(\u001b[38;5;28mself\u001b[39m, x):\n\u001b[1;32m---> 21\u001b[0m     x \u001b[38;5;241m=\u001b[39m \u001b[38;5;28mself\u001b[39m\u001b[38;5;241m.\u001b[39mconvolutional_sequence(x)\n\u001b[0;32m     22\u001b[0m     \u001b[38;5;66;03m# Average output of convolutional layers\u001b[39;00m\n\u001b[0;32m     23\u001b[0m     x \u001b[38;5;241m=\u001b[39m x\u001b[38;5;241m.\u001b[39mmean(\u001b[38;5;241m2\u001b[39m)\n",
      "File \u001b[1;32m~\\anaconda3\\Lib\\site-packages\\torch\\nn\\modules\\module.py:1518\u001b[0m, in \u001b[0;36mModule._wrapped_call_impl\u001b[1;34m(self, *args, **kwargs)\u001b[0m\n\u001b[0;32m   1516\u001b[0m     \u001b[38;5;28;01mreturn\u001b[39;00m \u001b[38;5;28mself\u001b[39m\u001b[38;5;241m.\u001b[39m_compiled_call_impl(\u001b[38;5;241m*\u001b[39margs, \u001b[38;5;241m*\u001b[39m\u001b[38;5;241m*\u001b[39mkwargs)  \u001b[38;5;66;03m# type: ignore[misc]\u001b[39;00m\n\u001b[0;32m   1517\u001b[0m \u001b[38;5;28;01melse\u001b[39;00m:\n\u001b[1;32m-> 1518\u001b[0m     \u001b[38;5;28;01mreturn\u001b[39;00m \u001b[38;5;28mself\u001b[39m\u001b[38;5;241m.\u001b[39m_call_impl(\u001b[38;5;241m*\u001b[39margs, \u001b[38;5;241m*\u001b[39m\u001b[38;5;241m*\u001b[39mkwargs)\n",
      "File \u001b[1;32m~\\anaconda3\\Lib\\site-packages\\torch\\nn\\modules\\module.py:1527\u001b[0m, in \u001b[0;36mModule._call_impl\u001b[1;34m(self, *args, **kwargs)\u001b[0m\n\u001b[0;32m   1522\u001b[0m \u001b[38;5;66;03m# If we don't have any hooks, we want to skip the rest of the logic in\u001b[39;00m\n\u001b[0;32m   1523\u001b[0m \u001b[38;5;66;03m# this function, and just call forward.\u001b[39;00m\n\u001b[0;32m   1524\u001b[0m \u001b[38;5;28;01mif\u001b[39;00m \u001b[38;5;129;01mnot\u001b[39;00m (\u001b[38;5;28mself\u001b[39m\u001b[38;5;241m.\u001b[39m_backward_hooks \u001b[38;5;129;01mor\u001b[39;00m \u001b[38;5;28mself\u001b[39m\u001b[38;5;241m.\u001b[39m_backward_pre_hooks \u001b[38;5;129;01mor\u001b[39;00m \u001b[38;5;28mself\u001b[39m\u001b[38;5;241m.\u001b[39m_forward_hooks \u001b[38;5;129;01mor\u001b[39;00m \u001b[38;5;28mself\u001b[39m\u001b[38;5;241m.\u001b[39m_forward_pre_hooks\n\u001b[0;32m   1525\u001b[0m         \u001b[38;5;129;01mor\u001b[39;00m _global_backward_pre_hooks \u001b[38;5;129;01mor\u001b[39;00m _global_backward_hooks\n\u001b[0;32m   1526\u001b[0m         \u001b[38;5;129;01mor\u001b[39;00m _global_forward_hooks \u001b[38;5;129;01mor\u001b[39;00m _global_forward_pre_hooks):\n\u001b[1;32m-> 1527\u001b[0m     \u001b[38;5;28;01mreturn\u001b[39;00m forward_call(\u001b[38;5;241m*\u001b[39margs, \u001b[38;5;241m*\u001b[39m\u001b[38;5;241m*\u001b[39mkwargs)\n\u001b[0;32m   1529\u001b[0m \u001b[38;5;28;01mtry\u001b[39;00m:\n\u001b[0;32m   1530\u001b[0m     result \u001b[38;5;241m=\u001b[39m \u001b[38;5;28;01mNone\u001b[39;00m\n",
      "File \u001b[1;32m~\\anaconda3\\Lib\\site-packages\\torch\\nn\\modules\\container.py:215\u001b[0m, in \u001b[0;36mSequential.forward\u001b[1;34m(self, input)\u001b[0m\n\u001b[0;32m    213\u001b[0m \u001b[38;5;28;01mdef\u001b[39;00m \u001b[38;5;21mforward\u001b[39m(\u001b[38;5;28mself\u001b[39m, \u001b[38;5;28minput\u001b[39m):\n\u001b[0;32m    214\u001b[0m     \u001b[38;5;28;01mfor\u001b[39;00m module \u001b[38;5;129;01min\u001b[39;00m \u001b[38;5;28mself\u001b[39m:\n\u001b[1;32m--> 215\u001b[0m         \u001b[38;5;28minput\u001b[39m \u001b[38;5;241m=\u001b[39m module(\u001b[38;5;28minput\u001b[39m)\n\u001b[0;32m    216\u001b[0m     \u001b[38;5;28;01mreturn\u001b[39;00m \u001b[38;5;28minput\u001b[39m\n",
      "File \u001b[1;32m~\\anaconda3\\Lib\\site-packages\\torch\\nn\\modules\\module.py:1518\u001b[0m, in \u001b[0;36mModule._wrapped_call_impl\u001b[1;34m(self, *args, **kwargs)\u001b[0m\n\u001b[0;32m   1516\u001b[0m     \u001b[38;5;28;01mreturn\u001b[39;00m \u001b[38;5;28mself\u001b[39m\u001b[38;5;241m.\u001b[39m_compiled_call_impl(\u001b[38;5;241m*\u001b[39margs, \u001b[38;5;241m*\u001b[39m\u001b[38;5;241m*\u001b[39mkwargs)  \u001b[38;5;66;03m# type: ignore[misc]\u001b[39;00m\n\u001b[0;32m   1517\u001b[0m \u001b[38;5;28;01melse\u001b[39;00m:\n\u001b[1;32m-> 1518\u001b[0m     \u001b[38;5;28;01mreturn\u001b[39;00m \u001b[38;5;28mself\u001b[39m\u001b[38;5;241m.\u001b[39m_call_impl(\u001b[38;5;241m*\u001b[39margs, \u001b[38;5;241m*\u001b[39m\u001b[38;5;241m*\u001b[39mkwargs)\n",
      "File \u001b[1;32m~\\anaconda3\\Lib\\site-packages\\torch\\nn\\modules\\module.py:1527\u001b[0m, in \u001b[0;36mModule._call_impl\u001b[1;34m(self, *args, **kwargs)\u001b[0m\n\u001b[0;32m   1522\u001b[0m \u001b[38;5;66;03m# If we don't have any hooks, we want to skip the rest of the logic in\u001b[39;00m\n\u001b[0;32m   1523\u001b[0m \u001b[38;5;66;03m# this function, and just call forward.\u001b[39;00m\n\u001b[0;32m   1524\u001b[0m \u001b[38;5;28;01mif\u001b[39;00m \u001b[38;5;129;01mnot\u001b[39;00m (\u001b[38;5;28mself\u001b[39m\u001b[38;5;241m.\u001b[39m_backward_hooks \u001b[38;5;129;01mor\u001b[39;00m \u001b[38;5;28mself\u001b[39m\u001b[38;5;241m.\u001b[39m_backward_pre_hooks \u001b[38;5;129;01mor\u001b[39;00m \u001b[38;5;28mself\u001b[39m\u001b[38;5;241m.\u001b[39m_forward_hooks \u001b[38;5;129;01mor\u001b[39;00m \u001b[38;5;28mself\u001b[39m\u001b[38;5;241m.\u001b[39m_forward_pre_hooks\n\u001b[0;32m   1525\u001b[0m         \u001b[38;5;129;01mor\u001b[39;00m _global_backward_pre_hooks \u001b[38;5;129;01mor\u001b[39;00m _global_backward_hooks\n\u001b[0;32m   1526\u001b[0m         \u001b[38;5;129;01mor\u001b[39;00m _global_forward_hooks \u001b[38;5;129;01mor\u001b[39;00m _global_forward_pre_hooks):\n\u001b[1;32m-> 1527\u001b[0m     \u001b[38;5;28;01mreturn\u001b[39;00m forward_call(\u001b[38;5;241m*\u001b[39margs, \u001b[38;5;241m*\u001b[39m\u001b[38;5;241m*\u001b[39mkwargs)\n\u001b[0;32m   1529\u001b[0m \u001b[38;5;28;01mtry\u001b[39;00m:\n\u001b[0;32m   1530\u001b[0m     result \u001b[38;5;241m=\u001b[39m \u001b[38;5;28;01mNone\u001b[39;00m\n",
      "File \u001b[1;32m~\\anaconda3\\Lib\\site-packages\\torch\\nn\\modules\\conv.py:310\u001b[0m, in \u001b[0;36mConv1d.forward\u001b[1;34m(self, input)\u001b[0m\n\u001b[0;32m    309\u001b[0m \u001b[38;5;28;01mdef\u001b[39;00m \u001b[38;5;21mforward\u001b[39m(\u001b[38;5;28mself\u001b[39m, \u001b[38;5;28minput\u001b[39m: Tensor) \u001b[38;5;241m-\u001b[39m\u001b[38;5;241m>\u001b[39m Tensor:\n\u001b[1;32m--> 310\u001b[0m     \u001b[38;5;28;01mreturn\u001b[39;00m \u001b[38;5;28mself\u001b[39m\u001b[38;5;241m.\u001b[39m_conv_forward(\u001b[38;5;28minput\u001b[39m, \u001b[38;5;28mself\u001b[39m\u001b[38;5;241m.\u001b[39mweight, \u001b[38;5;28mself\u001b[39m\u001b[38;5;241m.\u001b[39mbias)\n",
      "File \u001b[1;32m~\\anaconda3\\Lib\\site-packages\\torch\\nn\\modules\\conv.py:306\u001b[0m, in \u001b[0;36mConv1d._conv_forward\u001b[1;34m(self, input, weight, bias)\u001b[0m\n\u001b[0;32m    302\u001b[0m \u001b[38;5;28;01mif\u001b[39;00m \u001b[38;5;28mself\u001b[39m\u001b[38;5;241m.\u001b[39mpadding_mode \u001b[38;5;241m!=\u001b[39m \u001b[38;5;124m'\u001b[39m\u001b[38;5;124mzeros\u001b[39m\u001b[38;5;124m'\u001b[39m:\n\u001b[0;32m    303\u001b[0m     \u001b[38;5;28;01mreturn\u001b[39;00m F\u001b[38;5;241m.\u001b[39mconv1d(F\u001b[38;5;241m.\u001b[39mpad(\u001b[38;5;28minput\u001b[39m, \u001b[38;5;28mself\u001b[39m\u001b[38;5;241m.\u001b[39m_reversed_padding_repeated_twice, mode\u001b[38;5;241m=\u001b[39m\u001b[38;5;28mself\u001b[39m\u001b[38;5;241m.\u001b[39mpadding_mode),\n\u001b[0;32m    304\u001b[0m                     weight, bias, \u001b[38;5;28mself\u001b[39m\u001b[38;5;241m.\u001b[39mstride,\n\u001b[0;32m    305\u001b[0m                     _single(\u001b[38;5;241m0\u001b[39m), \u001b[38;5;28mself\u001b[39m\u001b[38;5;241m.\u001b[39mdilation, \u001b[38;5;28mself\u001b[39m\u001b[38;5;241m.\u001b[39mgroups)\n\u001b[1;32m--> 306\u001b[0m \u001b[38;5;28;01mreturn\u001b[39;00m F\u001b[38;5;241m.\u001b[39mconv1d(\u001b[38;5;28minput\u001b[39m, weight, bias, \u001b[38;5;28mself\u001b[39m\u001b[38;5;241m.\u001b[39mstride,\n\u001b[0;32m    307\u001b[0m                 \u001b[38;5;28mself\u001b[39m\u001b[38;5;241m.\u001b[39mpadding, \u001b[38;5;28mself\u001b[39m\u001b[38;5;241m.\u001b[39mdilation, \u001b[38;5;28mself\u001b[39m\u001b[38;5;241m.\u001b[39mgroups)\n",
      "\u001b[1;31mRuntimeError\u001b[0m: Given groups=1, weight of size [10, 100, 2], expected input[32, 50, 499] to have 100 channels, but got 50 channels instead"
     ]
    }
   ],
   "source": [
    "data = LitEnhancerData(n_splits = 5)\n",
    "\n",
    "y_hat = np.array([])\n",
    "y     = np.array([])\n",
    "\n",
    "for fold in range(data.n_splits):\n",
    "\n",
    "    data.setup_fold(fold)\n",
    "\n",
    "    model = LitDetectActiveEnhancersNetwork()\n",
    "\n",
    "    mt = LitMetricTracker()\n",
    "    es = pl.callbacks.early_stopping.EarlyStopping(monitor='val_loss', patience=10)\n",
    "    cp = ModelCheckpoint()\n",
    "    pb = LitProgressBar()\n",
    "\n",
    "    # Train model on train data and use validation data for early stopping, change accelerator\n",
    "    # to 'cpu' if you do not have a GPU that can be used for computations\n",
    "    trainer = pl.Trainer(max_epochs=1000, accelerator='gpu', devices=1, callbacks=[pb, es, mt, cp], enable_progress_bar=True, logger=False)\n",
    "    trainer.fit(model, data)\n",
    "\n",
    "    # Get best model from checkpoint\n",
    "    #model = model.load_from_checkpoint(cp.best_model_path)\n",
    "    model = LitDetectActiveEnhancersNetwork.load_from_checkpoint(cp.best_model_path)\n",
    "\n",
    "    # Test estimated model on test data\n",
    "    trainer.test(model, data)\n",
    "\n",
    "    # Get predictions from test run\n",
    "    test_y, test_y_hat = mt.test_predictions\n",
    "\n",
    "    # Evaluate model\n",
    "    y_hat = np.append(y_hat, test_y_hat)\n",
    "    y     = np.append(y    , test_y)"
   ]
  },
  {
   "cell_type": "code",
   "execution_count": null,
   "id": "11563feb",
   "metadata": {},
   "outputs": [],
   "source": [
    "roc_auc = roc_auc_score(y_score=y_hat, y_true=y)\n",
    "tpr, fpr, _ = roc_curve(y_score=y_hat, y_true=y)\n",
    "\n",
    "fig = plt.figure(figsize=(14, 8))\n",
    "plt.plot(tpr, fpr, label='Performance Neural Network', lw=4, color='orange')\n",
    "plt.xlabel('False Positive Rate', fontsize = 14)\n",
    "plt.ylabel('True Positive Rate', fontsize = 14)\n",
    "plt.plot([0, 1], [0, 1], color='navy', lw=4, linestyle='--', label='random')\n",
    "plt.legend(loc='lower right', fontsize = 14)\n",
    "plt.title(\"5-fold CV ROC-Curve (AUC: {:0.2f})\".format(roc_auc), fontsize = 16)"
   ]
  },
  {
   "cell_type": "code",
   "execution_count": null,
   "id": "ca67fab7",
   "metadata": {},
   "outputs": [],
   "source": [
    "# Plot train and validation error of the last CV fold\n",
    "plt.plot(mt.train_error)\n",
    "plt.plot(mt.val_error)\n",
    "plt.show()"
   ]
  },
  {
   "cell_type": "code",
   "execution_count": null,
   "id": "7a856575",
   "metadata": {},
   "outputs": [],
   "source": []
  },
  {
   "cell_type": "code",
   "execution_count": null,
   "id": "9fe9f3bf",
   "metadata": {},
   "outputs": [],
   "source": []
  },
  {
   "cell_type": "code",
   "execution_count": null,
   "id": "5261bc20",
   "metadata": {},
   "outputs": [],
   "source": []
  }
 ],
 "metadata": {
  "kernelspec": {
   "display_name": "Python 3 (ipykernel)",
   "language": "python",
   "name": "python3"
  },
  "language_info": {
   "codemirror_mode": {
    "name": "ipython",
    "version": 3
   },
   "file_extension": ".py",
   "mimetype": "text/x-python",
   "name": "python",
   "nbconvert_exporter": "python",
   "pygments_lexer": "ipython3",
   "version": "3.11.5"
  },
  "vscode": {
   "interpreter": {
    "hash": "edc2edf56ea13f1e22424e20afa6e48f5488415ce9d428406e2569475df17409"
   }
  }
 },
 "nbformat": 4,
 "nbformat_minor": 5
}
