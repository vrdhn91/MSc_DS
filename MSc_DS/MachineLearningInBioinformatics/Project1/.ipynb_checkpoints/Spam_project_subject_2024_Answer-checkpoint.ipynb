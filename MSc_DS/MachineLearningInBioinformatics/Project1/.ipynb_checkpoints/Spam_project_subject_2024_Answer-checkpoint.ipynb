{
 "cells": [
  {
   "cell_type": "markdown",
   "metadata": {},
   "source": [
    "# Spam or Ham (project 1)\n",
    "\n",
    "## 1- Introduction with the Bernoulli model\n",
    "\n",
    "\n",
    "We say that a random variables $X \\in \\{0, 1\\}$ follows a Bernoulli distribution of parameter $\\theta$ if $\\mathbb{P}(X = 1) = \\theta$ and $\\mathbb{P}(X = 0) = 1 − \\theta$.\n",
    "\n",
    "\n",
    "1.  Show that we can write the probability distribution of $X$ in a compact form as : \n",
    "$$\n",
    "\\mathbb{P}(X = x) = \\theta^{x} (1 − \\theta)^{1−x}\n",
    "$$\n",
    "\n",
    "2. Suppose now that we have a set of n independent variables $x_1,...,x_n$. If we note $n_1 = \\sum_{i=1}^n \\mathbb{1}_{\\{x_i=1\\}}$ and $n_0 = n − n_1$, show that :\n",
    "$$\n",
    "\\mathbb{P}(x_1,\\ldots,x_n \\mid \\theta)=\\theta^{n_1} (1−\\theta)^{n_0}\n",
    "$$\n",
    "\n",
    "3. Show that the maximum likelihood estimator is $\\hat{\\theta}_{ML} = \\frac{n_1}{n}$\n",
    "\n",
    "4. A conjugate prior for the Bernoulli distribution is the Beta distribution. \n",
    "$$\n",
    "Beta(\\theta \\mid a, b) \\propto \\theta^{a−1} (1 − \\theta)^{b−1}\n",
    "$$\n",
    "The Beta distribution has the following properties for its expectation and mode (for more details you can look in one of the books like the Bishop):\n",
    "$$\n",
    "\\mathbb{E}(\\theta) = \\frac{a}{a+b} \\text{, mode}(\\theta) = \\frac{a-1}{a+b-2}\n",
    "$$\n",
    "\n",
    "Show that with a $Beta(a,b)$ prior the posterior distribution \n",
    "$\\mathbb{P}(\\theta \\mid x_1,\\ldots, x_n)$\n",
    "is proportional to $\\theta^{n_1+a-1} \\cdot (1 − \\theta)^{n_0+b-1}$ \n",
    "\n",
    "5. (Those two questions are optional, you can also simply use the result in the following)\n",
    "\n",
    "  a. Show that the maximum a posteriori _mode_ estimate is in the form $\\bar{\\theta}_{MAP} = \\frac{n_1+a-1}{n+a+b-2}$\n",
    "\n",
    "  b. Show that the maximum a posteriori \n",
    "_mean_ estimate is in the form $\\hat{\\theta}_{MAP} = \\mathbb{E}(\\theta \\mid x_1,\\ldots, x_n) = \n",
    "\\int_{\\theta =0}^1 \\mathbb{P}(\\theta \\mid x_1\\ldots x_n) d\\theta  = \\frac{n_1+a}{n+a+b}$\n"
   ]
  },
  {
   "cell_type": "markdown",
   "metadata": {},
   "source": [
    "## _write your answers to the questions here (you can also provide a scanned pdf of your answers with the notebook)_"
   ]
  },
  {
   "cell_type": "markdown",
   "metadata": {},
   "source": [
    "## Spam classifier\n",
    "\n",
    "The goal of this small project is to use a Naive bayes classifier to build a spam filter. To build our filter, we will use a dataset of 5,572 SMS messages put together by Tiago A. Almeida and José María Gómez Hidalgo. \n",
    "The dataset and the article describing the dataset are in the whiteboard directory together with this notebook. Of note, the SMS messages have already been processed for ease of use: all punctuation marks have been removed and the text has been transformed into lowercase. It is also common practice to remove any stop words such as `a`, `as`, `the` and to perform stemming (reduce words to their base form, such as stripping  the final `s*` in plural words, or the `*ing` from verbs (e.g., running becomes run)). For the sake of simplicity, we did not do that in this exercise.\n",
    "\n",
    "We will use a bag of word model:\n",
    " - We construct a corpus of the possible words $\\mathcal{D} = \\{w_1, \\ldots , w_d\\}$.\n",
    " - Each document is described by a vector of binary values $(x^{(1)}, \\ldots , x^{(d)})$ where $x^{(i)} = 1$ if $w_i$ occurs in the document and $0$ otherwise.\n",
    "\n",
    "The classification task is to predict for an SMS message if it is a _spam_ or a _ham_ (e.g. non-spam).\n",
    "\n",
    "Our data is thus $\\mathbf{x} = (x^{(1)},\\ldots, x^{(d)})$, $x^{(i)} \\in \\{0,1\\}$ and $y \\in \\{s,h\\}$\n",
    "We hypothesise that the values $x^{(i)}$ are drawn according to a Bernoulli distribution whose parameter depends on the class:\n",
    "$$\n",
    "\\mathbb{P}(x^{(i)} \\mid y = s) = \\theta_{i,s}^{x^{(i)}} \\cdot (1-\\theta_{i,s})^{1-x^{(i)}}\n",
    "$$\n",
    "and \n",
    "$$\n",
    "\\mathbb{P}(x^{(i)} \\mid y = h) = \\theta_{i,h}^{x^{(i)}} \\cdot (1-\\theta_{i,h})^{1-x^{(i)}}\n",
    "$$\n",
    "As we will use a naive Bayes classifier, the occurences of the different words are independent from each other.\n",
    "\\begin{align}\n",
    "\\mathbb{P}(\\mathbf{x} \\mid y = s) & = \\prod_{i=1}^{d} \\mathbb{P} (x^{(i)} \\mid y = s)\\\\\n",
    "  & =  \\prod_{i=1}^{d} \\theta_{i,s}^{x^{(i)}} \\cdot (1-\\theta_{i,s})^{1-x^{(i)}}\n",
    "\\end{align}\n"
   ]
  },
  {
   "cell_type": "markdown",
   "metadata": {},
   "source": [
    "## Importing library and loading dataset"
   ]
  },
  {
   "cell_type": "code",
   "execution_count": 1,
   "metadata": {},
   "outputs": [],
   "source": [
    "%matplotlib inline\n",
    "import numpy as np\n",
    "import matplotlib.pyplot as plt\n",
    "from collections import Counter\n",
    "from sklearn.model_selection import train_test_split\n",
    "\n",
    "##Load the dataset (if in the same directory as the notebook)\n",
    "sms_data = np.loadtxt(\"./SMSSpamCollection_cleaned.csv\", delimiter=\"\\t\", skiprows=1, dtype=str)\n",
    "\n",
    "## create test data set for checkpointing\n",
    "checkpoint_data = np.array([['spam', 'dear researcher submit manuscript money'], \n",
    "          ['ham','dear friend meet beer'],\n",
    "          ['ham', 'dear friend meet you']], dtype=str)"
   ]
  },
  {
   "cell_type": "code",
   "execution_count": 2,
   "metadata": {},
   "outputs": [
    {
     "data": {
      "text/plain": [
       "array([['ham',\n",
       "        'go until jurong point  crazy   available only in bugis n great world la e buffet    cine there got amore wat   '],\n",
       "       ['ham', 'ok lar    joking wif u oni   '],\n",
       "       ['spam',\n",
       "        'free entry in 2 a wkly comp to win fa cup final tkts 21st may 2005  text fa to 87121 to receive entry question std txt rate t c s apply 08452810075over18 s'],\n",
       "       ...,\n",
       "       ['ham',\n",
       "        'pity    was in mood for that  so   any other suggestions '],\n",
       "       ['ham',\n",
       "        'the guy did some bitching but i acted like i d be interested in buying something else next week and he gave it to us for free'],\n",
       "       ['ham', 'rofl  its true to its name']], dtype='<U910')"
      ]
     },
     "execution_count": 2,
     "metadata": {},
     "output_type": "execute_result"
    }
   ],
   "source": [
    "##Check the dataset\n",
    "sms_data"
   ]
  },
  {
   "cell_type": "code",
   "execution_count": 3,
   "metadata": {},
   "outputs": [
    {
     "name": "stdout",
     "output_type": "stream",
     "text": [
      "5572\n",
      "Third message is a: spam\n",
      "['free', 'entry', 'in', '2', 'a', 'wkly', 'comp', 'to', 'win', 'fa', 'cup', 'final', 'tkts', '21st', 'may', '2005', 'text', 'fa', 'to', '87121', 'to', 'receive', 'entry', 'question', 'std', 'txt', 'rate', 't', 'c', 's', 'apply', '08452810075over18', 's']\n"
     ]
    }
   ],
   "source": [
    "##Check the size of the dataset\n",
    "num_messages = sms_data.shape[0]\n",
    "print(num_messages)\n",
    "\n",
    "##third message is a...\n",
    "print(\"Third message is a:\", sms_data[2][0])\n",
    "##dividing the third message into words\n",
    "print(sms_data[2][1].split())"
   ]
  },
  {
   "cell_type": "markdown",
   "metadata": {},
   "source": [
    "## 2 - Construction of the Corpus\n",
    "\n",
    "Construct the corpus $\\mathcal{D}$ of all words in the dataset. The corpus will be represented as a hash table where each key is a unique word in the dataset and each value is the row index for that word. \n",
    " - How many unique words are there? \n",
    " - What are the 10 most common words (_e.g._ occuring in the most documents)?\n",
    " - Transform the set of messages in the form of a binary matrix of word occurrences.\n",
    " \n",
    " You can evaluate whether your implementation works using the checkpoint_data array. For this dataset the corpus could look as follows :\n",
    "\n",
    "`{'dear': 0, 'researcher': 1, 'submit': 2, 'manuscript': 3, 'money': 4, 'friend': 5, 'meet': 6, 'beer': 7, 'you': 8}`\n",
    "(of course you could have other index values for the words). \n",
    "\n",
    "The recoding of the checkpoint data will give you the following numpy array:\n",
    "\n",
    "```\n",
    "[[1. 1. 1. 1. 1. 0. 0. 0. 0.]\n",
    " [1. 0. 0. 0. 0. 1. 1. 1. 0.]\n",
    " [1. 0. 0. 0. 0. 1. 1. 0. 1.]]\n",
    "```"
   ]
  },
  {
   "cell_type": "code",
   "execution_count": 4,
   "metadata": {},
   "outputs": [],
   "source": [
    "def construct_corpus(data):\n",
    "    \"\"\"\n",
    "    np.array[str, str] -> dict[str:int]\n",
    "    \n",
    "    from a 2D array of str, return a hash table\n",
    "    \"\"\"\n",
    "    ##Your code here\n",
    "    corpus_arr = data[:,1]\n",
    "    counter = 0;\n",
    "    corpus_dict = {}\n",
    "    for sentence in corpus_arr:\n",
    "        splitted_text = sentence.split(\" \")\n",
    "        for words in splitted_text:\n",
    "            if words not in corpus_dict.keys() and words!=\"\":\n",
    "                corpus_dict[words] = counter\n",
    "                counter+=1\n",
    "    return corpus_dict\n",
    "\n",
    "##test"
   ]
  },
  {
   "cell_type": "code",
   "execution_count": 5,
   "metadata": {
    "scrolled": false
   },
   "outputs": [],
   "source": [
    "def recode_messages(data, corpus):\n",
    "    \"\"\"\n",
    "    np.array[str, str] * dict[str:int] -> np.array[int, int]\n",
    "    \n",
    "    returns the binary matrix encoding \n",
    "    \"\"\"\n",
    "    ##Your code here\n",
    "    #sms_matrix=[]\n",
    "    #sms_arr = data[:,1]\n",
    "    \n",
    "    #for sentence in sms_arr:\n",
    "    #    words = sentence.split(\" \")\n",
    "    #    row_matrix = []\n",
    "    #    for c_key in corpus.keys():\n",
    "    #        element = 0\n",
    "    #        if c_key in words:\n",
    "    #            element = 1\n",
    "    #        row_matrix.append(element)\n",
    "    #    sms_matrix.append(row_matrix)\n",
    "        \n",
    "    #sms_matrix = np.array(sms_matrix)\n",
    "    #sms_matrix = sms_matrix.reshape((sms_matrix.shape[0], -1))\n",
    "    #return sms_matrix\n",
    "        \n",
    "    sms_matrix = np.zeros((len(data), len(corpus)), dtype=int)\n",
    "    sms_arr = data[:, 1]\n",
    "    \n",
    "    for i, sentence in enumerate(sms_arr):\n",
    "        words = sentence.split(\" \")\n",
    "        row_matrix = np.zeros(len(corpus), dtype=int)\n",
    "        \n",
    "        for j, c_key in enumerate(corpus.keys()):\n",
    "            if c_key in words:\n",
    "                row_matrix[j] = 1\n",
    "        \n",
    "        sms_matrix[i] = row_matrix\n",
    "    \n",
    "    return sms_matrix\n",
    "\n",
    "\n",
    "D = construct_corpus(sms_data)\n",
    "#D = construct_corpus(checkpoint_data)\n",
    "\n",
    "sms_matrix = recode_messages(sms_data, D)\n",
    "#sms_matrix = recode_messages(checkpoint_data, D)\n",
    "\n",
    "    "
   ]
  },
  {
   "cell_type": "code",
   "execution_count": 6,
   "metadata": {},
   "outputs": [
    {
     "name": "stdout",
     "output_type": "stream",
     "text": [
      "(5572, 8753)\n",
      "[[1 1 1 ... 0 0 0]\n",
      " [0 0 0 ... 0 0 0]\n",
      " [0 0 0 ... 0 0 0]\n",
      " ...\n",
      " [0 0 0 ... 1 1 0]\n",
      " [0 0 0 ... 0 0 1]\n",
      " [0 0 0 ... 0 0 0]]\n",
      "How many unique words are there?  8753\n"
     ]
    },
    {
     "data": {
      "image/png": "[encoded data removed]",
      "text/plain": [
       "<Figure size 1500x600 with 1 Axes>"
      ]
     },
     "metadata": {},
     "output_type": "display_data"
    }
   ],
   "source": [
    "#type(D)\n",
    "print(sms_matrix.shape)\n",
    "print(sms_matrix)\n",
    "print(\"How many unique words are there? \", len(D.keys()))\n",
    "\n",
    "index_to_word = {index: word for word, index in D.items()}\n",
    "occurrences = np.sum(sms_matrix, axis=0)\n",
    "\n",
    "top_indices = np.argsort(occurrences)[::-1][:10]\n",
    "\n",
    "plt.figure(figsize=(15, 6))\n",
    "plt.bar(range(len(top_indices)), occurrences[top_indices], color='#78C9CB')\n",
    "plt.xlabel('Word')\n",
    "plt.ylabel('Occurrences')\n",
    "plt.title('What are the 10 most common words (_e.g._ occuring in the most documents)?')\n",
    "plt.xticks(range(len(top_indices)), [index_to_word[index] for index in top_indices], rotation=90)\n",
    "plt.show()\n"
   ]
  },
  {
   "cell_type": "markdown",
   "metadata": {},
   "source": [
    "## 3 - Construct a training and a testing set and estimation of parameters\n",
    "\n",
    "\n",
    "To do the evaluation of the model afterward we will split the dataset randomly in two: \n",
    "- one dataset for training (80% of the messages) \n",
    "- one dataset for testing (20% of the messages).\n",
    "\n",
    "If you are familiar with it, you can use the `sklearn.model_selection` functions to construct the train and test datasets.\n"
   ]
  },
  {
   "cell_type": "code",
   "execution_count": 7,
   "metadata": {},
   "outputs": [],
   "source": [
    "#def train_test_split(X, Y, train_percentage=0.8):\n",
    "#    assert X.shape[0] == Y.shape[0]\n",
    "\n",
    "#    number_examples = X.shape[0]\n",
    "#    num_train = int(train_percentage * number_examples)\n",
    "    ##Your code here\n",
    "#    X_train, X_test, y_train, y_test = train_test_split(X, Y, test_size=0.2, random_state=42)\n",
    "\n",
    "#X_train, X_test, y_train, y_test = train_test_split(sms_matrix, sms_data[:,0])\n",
    "\n",
    "X = sms_matrix\n",
    "Y = sms_data[:,0]\n",
    "#X = sms_matrix\n",
    "#Y = checkpoint_data[:,0]\n",
    "X_train, X_test, y_train, y_test = train_test_split(X, Y, test_size=0.2, random_state=42)"
   ]
  },
  {
   "cell_type": "code",
   "execution_count": 8,
   "metadata": {},
   "outputs": [
    {
     "name": "stdout",
     "output_type": "stream",
     "text": [
      "(4457, 8753) (1115, 8753) (4457,) (1115,)\n"
     ]
    }
   ],
   "source": [
    "print(X_train.shape, X_test.shape, y_train.shape,y_test.shape)"
   ]
  },
  {
   "cell_type": "markdown",
   "metadata": {},
   "source": [
    "## 4 - Estimation of the model parameters\n",
    "\n",
    "We will now estimate our model on the training set. This means estimating two types of parameters: the class prior, and the conditional word occurence probabilities.\n",
    "\n",
    "1.  Estimate the class prior $\\mathbb{P}(c) = \\mathbb{P}(y = c), (c = s, h)$\n",
    "2.  Using the results from section 1, compute the Maximum a posteriori estimator for the $d \\times 2$ matrix of parameters.\n",
    "$$\n",
    "\\Theta = \\left(\n",
    "\\begin{array}{cc}\n",
    "\\theta_{1,h}   & \\theta_{1,s} \\\\\n",
    "\\theta_{2,h} & \\theta_{2,s} \\\\\n",
    "\\vdots & \\vdots \\\\\n",
    "\\theta_{d,h} & \\theta_{d,s} \\\\\n",
    "\\end{array}\n",
    "\\right).\n",
    "$$ You can use as conjugate prior a Beta(1, 1) distribution for instance (then $\\theta_{i,c} = \\frac{n_{i,c}+1}{N+2}$ where $n_{i,c}$ is the number of documents from the class $c$ where the word $w_i$ is present and $N$ is the total number of documents within a class).\n",
    "\n",
    "When applied to the checkpoint data, your $\\Theta$ matrix should look like this:\n",
    "\n",
    "```\n",
    "# h    s\n",
    "[[0.75 0.66666667]  #'dear'\n",
    " [0.25 0.66666667]  #'researcher'\n",
    " [0.25 0.66666667]  #'submit'\n",
    " [0.25 0.66666667]  #'manuscript'\n",
    " [0.25 0.66666667]  #'money'\n",
    " [0.75 0.33333333]  #'friend'\n",
    " [0.75 0.33333333]  #'meet'\n",
    " [0.5  0.33333333]  #'beer'\n",
    " [0.5  0.33333333]] #'you'\n",
    "```\n",
    "\n",
    "3. Represent the fitted class conditional densities $(\\theta_{i,h})_{i \\in \\mathcal{D}}$ and $(\\theta_{i,s})_{i \\in \\mathcal{D}}$ like on the corresponding slide of the course.\n"
   ]
  },
  {
   "cell_type": "code",
   "execution_count": 9,
   "metadata": {},
   "outputs": [
    {
     "name": "stdout",
     "output_type": "stream",
     "text": [
      "[[0.04946905 0.045     ]\n",
      " [0.003885   0.00666667]\n",
      " [0.000518   0.00166667]\n",
      " ...\n",
      " [0.000518   0.00166667]\n",
      " [0.000518   0.00166667]\n",
      " [0.000518   0.00166667]]\n",
      "(8753, 2)\n"
     ]
    }
   ],
   "source": [
    "## Your code here for class priors\n",
    "    \n",
    "def estimate_proportions(data_matrix):\n",
    "    \"\"\"\n",
    "    estimate the matrix theta\n",
    "    \"\"\"\n",
    "    #your code here\n",
    "    \n",
    "    #calculate (n_ic+1)/(N+2)\n",
    "    N_ham = 0\n",
    "    N_spam = 0\n",
    "    for label in y_train:\n",
    "    #for x in checkpoint_data[:,0]:\n",
    "        if label == 'ham':\n",
    "            N_ham += 1\n",
    "        else:\n",
    "            N_spam += 1\n",
    "    \n",
    "    theta_matrix = np.zeros((data_matrix.shape[1], 2), dtype=float)\n",
    "    \n",
    "    for col in range(data_matrix.shape[1]):\n",
    "        n_ic_ham = 0\n",
    "        n_ic_spam = 0\n",
    "        \n",
    "        for row in range(data_matrix.shape[0]):\n",
    "            \n",
    "            if data_matrix[row,col] == 1 and y_train[row] == 'ham':\n",
    "            #if data_matrix[i,col] == 1 and checkpoint_data[i, 0]=='ham':\n",
    "                n_ic_ham += 1\n",
    "            elif data_matrix[row,col] == 1 and y_train[row] == 'spam':\n",
    "            #elif data_matrix[i,col] == 1 and checkpoint_data[i, 0]=='spam':\n",
    "                n_ic_spam += 1\n",
    "                \n",
    "        theta_ic_ham = (n_ic_ham + 1) / (N_ham + 2)\n",
    "        theta_ic_spam = (n_ic_spam + 1) / (N_spam + 2)\n",
    "        theta_matrix[col,0] = theta_ic_ham\n",
    "        theta_matrix[col,1] = theta_ic_spam\n",
    "        \n",
    "    return theta_matrix, N_ham, N_spam\n",
    "\n",
    "theta_matrix, N_ham, N_spam = estimate_proportions(X_train)\n",
    "map_estimator = theta_matrix\n",
    "#map_estimator = estimate_proportions(sms_matrix)\n",
    "print(map_estimator)\n",
    "print(map_estimator.shape)\n",
    "    \n",
    "##\n",
    "Dico = {'dear': 0, 'researcher':1, 'money': 2, 'friend': 3 }\n",
    "#sentence 1 dear friend money \n",
    "#sentence 2 dear researcher friend\n",
    "#sentence  friend money money\n",
    "#datam = np.array([[1 0 1 1],[1 1 0 1 ],[0 0 1 1]], dtype = int)\n"
   ]
  },
  {
   "cell_type": "markdown",
   "metadata": {},
   "source": [
    "## 4 - Message classification\n",
    "\n",
    "\n",
    "3. Classify the messages in the test set using the Maximum a posteriori rule, and evaluate the performance of the model by computing the True Positive Rate (also called Sensitivity) and the False Positive Rate (the same as 1-Specificity).\n",
    "\n",
    "4. The performance of the model above was obtained by using a classification threshold of $0.5$ on the posterior probability. In other words, if $\\mathbb{P}(y = s \\mid \\mathbb{x}) \\ge 0.5$ then the message is classified as spam. Draw a ROC curve for your classifier. Note that you have to consider multiple values of the threshold to draw the ROC curve. \n",
    "\n",
    "5. Why did we use the Maximum a posteriori estimator rather than the maximum likelihood one?\n",
    "\n",
    "\n"
   ]
  },
  {
   "cell_type": "code",
   "execution_count": null,
   "metadata": {},
   "outputs": [],
   "source": []
  },
  {
   "cell_type": "markdown",
   "metadata": {},
   "source": [
    "Classification $f(x) = arg max_{c} \\sum_{d=1}^{D} (x_d \\log(\\theta_{cd}) + (1 - x_d) \\log(1 - \\theta_{cd})) + \\log \\phi_c$\n"
   ]
  },
  {
   "cell_type": "code",
   "execution_count": 10,
   "metadata": {},
   "outputs": [
    {
     "name": "stdout",
     "output_type": "stream",
     "text": [
      "[-137.23343411 -121.28834112  -93.04491809 ...  -61.41578836  -52.89845736\n",
      "  -31.29885018]\n"
     ]
    }
   ],
   "source": [
    "#3. Classification\n",
    "\n",
    "ham_prior = N_ham / X_train.shape[0]\n",
    "spam_prior = N_spam / X_train.shape[0]\n",
    "\n",
    "y_predict = np.zeros((X_test.shape[0]))\n",
    "y_prediction_probability = np.zeros((X_test.shape[0]), dtype=float)\n",
    "counter = 0\n",
    "\n",
    "for idx_doc, test_doc in enumerate(X_test):\n",
    "    p_ham = 0\n",
    "    p_spam = 0\n",
    "    \n",
    "    for idx_word, x_d in enumerate(test_doc):\n",
    "        p_ham += (x_d * np.log(map_estimator[idx_word,0])) + ((1 - x_d) * np.log(1 - map_estimator[idx_word,0]))\n",
    "        p_spam += (x_d * np.log(map_estimator[idx_word,1])) + ((1 - x_d) * np.log(1 - map_estimator[idx_word,1]))\n",
    "        \n",
    "    p_ham += np.log(ham_prior)\n",
    "    p_spam += np.log(spam_prior)\n",
    "    #print(ham, spam)\n",
    "    \n",
    "    if p_ham > p_spam:\n",
    "        y_predict[counter] = 0 #0 means predicted as ham\n",
    "        y_prediction_probability[counter] = p_ham\n",
    "    else:\n",
    "        y_predict[counter] = 1 #1 means predicted as spam\n",
    "        y_prediction_probability[counter] = p_spam\n",
    "    counter += 1\n",
    "\n",
    "print(y_prediction_probability)\n"
   ]
  },
  {
   "cell_type": "code",
   "execution_count": 11,
   "metadata": {},
   "outputs": [
    {
     "name": "stdout",
     "output_type": "stream",
     "text": [
      "True Positive Rate (Sensitivity): 0.9060402684563759 False Positive Rate: 0.12283894449499544\n"
     ]
    }
   ],
   "source": [
    "#Model performance evaluation True Positive Rate (Sensitivity) and False Positive Rate (Specificity)\n",
    "#print(y_test)\n",
    "from sklearn.metrics import confusion_matrix\n",
    "\n",
    "y_true = []\n",
    "\n",
    "for idx, y in enumerate(y_test):\n",
    "    if y == 'ham':\n",
    "        y_true.append(0)\n",
    "    elif y == 'spam':\n",
    "        y_true.append(1)\n",
    "\n",
    "tn, fp, fn, tp = confusion_matrix(y_true,y_predict).ravel()\n",
    "sensitivity = tp / (tp + fn)\n",
    "specificity = tn / (tn + tp)\n",
    "false_positive_rate = 1-specificity\n",
    "\n",
    "print('True Positive Rate (Sensitivity):',sensitivity,'False Positive Rate:', false_positive_rate)"
   ]
  },
  {
   "cell_type": "code",
   "execution_count": 12,
   "metadata": {},
   "outputs": [
    {
     "data": {
      "image/png": "[encoded data removed]",
      "text/plain": [
       "<Figure size 640x480 with 1 Axes>"
      ]
     },
     "metadata": {},
     "output_type": "display_data"
    }
   ],
   "source": [
    "#ROC Curve\n",
    "from sklearn.metrics import roc_curve, auc\n",
    "import matplotlib.pyplot as plt\n",
    "\n",
    "fpr, tpr, thresholds = roc_curve(y_true, y_predict)\n",
    "\n",
    "roc_auc = auc(fpr, tpr)\n",
    "\n",
    "plt.figure()\n",
    "plt.plot(fpr, tpr, color='#CB7878', lw=2, label='ROC curve (area = %0.2f)' % roc_auc)\n",
    "plt.plot([0, 1], [0, 1], color='#7894CB', lw=2, linestyle='--')\n",
    "plt.xlim([0.0, 1.0])\n",
    "plt.ylim([0.0, 1.05])\n",
    "plt.xlabel('False Positive Rate')\n",
    "plt.ylabel('True Positive Rate')\n",
    "plt.title('Receiver Operating Characteristic (ROC) Curve')\n",
    "plt.legend(loc=\"lower right\")\n",
    "plt.show()"
   ]
  },
  {
   "cell_type": "markdown",
   "metadata": {},
   "source": [
    "#### Why did we use the Maximum a posteriori estimator rather than the maximum likelihood one?\n",
    "Maximum a posteriori is more accurate than Maximum Likelihood because it considers prior information. In this case, the beta distribution is used as a prior"
   ]
  },
  {
   "cell_type": "markdown",
   "metadata": {},
   "source": [
    "## 5 - Extension of the model (optional) \n",
    "\n",
    "One extension of the model is to consider a matrix of word counts instead of simply their presence/absence. \n",
    "The model will change in various ways in this case: \n",
    "   - We will count the total number of occurence in the spam or the ham set for each word.\n",
    "   - the words are now considered to occur independently along the sentence. (independent Multinoulli). Thus, for a document with k words $\\mathbf{v}=(v_1,\\ldots, v_k)$\n",
    "    \\begin{align}\n",
    "    \\mathbb{P}(\\mathbf{v} \\mid y = s) \n",
    "  & =  \\prod_{t=1}^{k} p_{v_t}\n",
    "    \\end{align}\n",
    "       where $p_v$ is the probability to observe a word $v$\n",
    "       \n",
    "Note that with this new model we compute a product over the positions in the sentence while the bernoulli model did a product over all the words in the corpus.\n",
    "\n",
    "1. Implement the estimation of parameters for this model and the computation of the posterior class probabilities. \n",
    "2. Compare its accuracy and ROC curve with the previous model on a test set.\n",
    "\n"
   ]
  },
  {
   "cell_type": "code",
   "execution_count": null,
   "metadata": {},
   "outputs": [],
   "source": []
  }
 ],
 "metadata": {
  "kernelspec": {
   "display_name": "Python 3 (ipykernel)",
   "language": "python",
   "name": "python3"
  },
  "language_info": {
   "codemirror_mode": {
    "name": "ipython",
    "version": 3
   },
   "file_extension": ".py",
   "mimetype": "text/x-python",
   "name": "python",
   "nbconvert_exporter": "python",
   "pygments_lexer": "ipython3",
   "version": "3.11.5"
  },
  "vscode": {
   "interpreter": {
    "hash": "aee8b7b246df8f9039afb4144a1f6fd8d2ca17a180786b69acc140d282b71a49"
   }
  }
 },
 "nbformat": 4,
 "nbformat_minor": 2
}
