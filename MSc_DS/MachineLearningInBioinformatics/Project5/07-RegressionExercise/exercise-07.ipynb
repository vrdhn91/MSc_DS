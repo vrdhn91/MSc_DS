{
 "cells": [
  {
   "cell_type": "markdown",
   "id": "720df8d5",
   "metadata": {},
   "source": [
    "<h1 align=\"center\">Machine Learning for Bioinformatics</h1>\n",
    "<h3 align=\"center\">Freie Universität Berlin - SoS 2024</h3>\n",
    "<h5 align=\"center\">Exercise Notebook 07 - Regression</h5>\n",
    "<hr style=\"border:2px solid gray\">"
   ]
  },
  {
   "cell_type": "markdown",
   "id": "86242dce",
   "metadata": {},
   "source": [
    "### Import python packages\n",
    "---"
   ]
  },
  {
   "cell_type": "code",
   "execution_count": 1,
   "id": "6c74a8cd",
   "metadata": {},
   "outputs": [],
   "source": [
    "import gzip\n",
    "import pickle\n",
    "import numpy as np\n",
    "import matplotlib.pyplot as plt\n",
    "\n",
    "from sklearn.model_selection import LeaveOneOut, GridSearchCV, KFold, ShuffleSplit\n",
    "from sklearn.metrics import r2_score\n",
    "from sklearn.preprocessing import StandardScaler\n",
    "from sklearn.linear_model import LinearRegression\n",
    "from sklearn.kernel_ridge import KernelRidge"
   ]
  },
  {
   "cell_type": "markdown",
   "id": "c70ded34",
   "metadata": {},
   "source": [
    "---\n",
    "# Assignment 1: From polynomial regression to kernel regression\n",
    "---\n",
    "The following defines a simple data set with 25 samples for testing polynomial regression:"
   ]
  },
  {
   "cell_type": "code",
   "execution_count": 2,
   "id": "bc802f98",
   "metadata": {},
   "outputs": [
    {
     "data": {
      "image/png": "[encoded data removed]",
      "text/plain": [
       "<Figure size 432x288 with 1 Axes>"
      ]
     },
     "metadata": {
      "needs_background": "light"
     },
     "output_type": "display_data"
    }
   ],
   "source": [
    "data = np.array([\n",
    "    0.001399613, -0.23436656,\n",
    "    0.971629779,  0.64689524,\n",
    "    0.579119475, -0.92635765,\n",
    "    0.335693937,  0.13000706,\n",
    "    0.736736086, -0.89294863,\n",
    "    0.492572335,  0.33854780,\n",
    "    0.737133774, -1.24171910,\n",
    "    0.563693769, -0.22523318,\n",
    "    0.877603280, -0.12962722,\n",
    "    0.141426545,  0.37632006,\n",
    "    0.307203910,  0.30299077,\n",
    "    0.024509308, -0.21162739,\n",
    "    0.843665029, -0.76468719,\n",
    "    0.771206067, -0.90455412,\n",
    "    0.149670258,  0.77097952,\n",
    "    0.359605608,  0.56466366,\n",
    "    0.049612895,  0.18897607,\n",
    "    0.409898906,  0.32531750,\n",
    "    0.935457898, -0.78703491,\n",
    "    0.149476207,  0.80585375,\n",
    "    0.234315216,  0.62944986,\n",
    "    0.455297119,  0.02353327,\n",
    "    0.102696671,  0.27621694,\n",
    "    0.715372314, -1.20379729,\n",
    "    0.681745393, -0.83059624 ]).reshape(25,2)\n",
    "y = data[:,1]\n",
    "X = data[:,0:1]\n",
    "\n",
    "plt.scatter(X[:,0], y)\n",
    "plt.show()"
   ]
  },
  {
   "cell_type": "markdown",
   "id": "b6b84990",
   "metadata": {},
   "source": [
    "---\n",
    "# 1.1 Polynomial features\n",
    "---\n",
    "The function *compute_polynomial_features* takes as input a vector $x \\in \\mathbb{R}^n$ and returns a matrix $F$ of $p$ features, where column $k$ corresponds to $x^{k-1}$, $k = 1, 2, \\dots, p$"
   ]
  },
  {
   "cell_type": "code",
   "execution_count": 11,
   "id": "03d326a5",
   "metadata": {},
   "outputs": [],
   "source": [
    "def compute_polynomial_features(X, degree):\n",
    "    # degree = p+1\n",
    "    x = X if len(X.shape) == 1 else X[:,0]\n",
    "    # Complete the implementation\n",
    "    return F"
   ]
  },
  {
   "cell_type": "markdown",
   "id": "594afbe7",
   "metadata": {},
   "source": [
    "---\n",
    "# 1.2 Polynomial regression\n",
    "---"
   ]
  },
  {
   "cell_type": "markdown",
   "id": "a26bada5",
   "metadata": {},
   "source": [
    "We estimate the parameters $\\theta$ of our (polynomial) regression model using $\\ell_2$-penalized ordinary least squares (ridge regression):\n",
    "$$\n",
    "    \\hat{\\theta} = \\mathrm{argmin}_\\theta \\left\\Vert y - F \\theta \\right\\Vert_2^2 + \\alpha \\left\\Vert \\theta \\right\\Vert_2^2\n",
    "$$\n",
    "which has the following analytical solution\n",
    "$$\n",
    "    \\hat{\\theta} = (F^\\top F + \\alpha I)^{-1} F^\\top y\n",
    "$$\n",
    "The class *PolynomialRegression* implements this estimator:"
   ]
  },
  {
   "cell_type": "code",
   "execution_count": 90,
   "id": "b6a4c64b",
   "metadata": {},
   "outputs": [],
   "source": [
    "class PolynomialRegression:\n",
    "    def __init__(self, degree=1, alpha=0.0):\n",
    "        self.degree = degree\n",
    "        self.theta  = None\n",
    "        self.alpha  = alpha\n",
    "    \n",
    "    def fit(self, X, y):\n",
    "        # Please use *np.linalg.pinv* to compute matrix inverses\n",
    "\n",
    "    def predict(self, X):\n",
    "        # Complete the implementation\n",
    "\n",
    "    def set_params(self, **parameters):\n",
    "        for parameter, value in parameters.items():\n",
    "            setattr(self, parameter, value)\n",
    "        return self\n",
    "\n",
    "    def get_params(self, deep=True):\n",
    "        return {\"degree\" : self.degree, \"alpha\" : self.alpha}"
   ]
  },
  {
   "cell_type": "markdown",
   "id": "45ba1801",
   "metadata": {},
   "source": [
    "---\n",
    "# 1.3 Performance of polynomial regression\n",
    "---"
   ]
  },
  {
   "cell_type": "markdown",
   "id": "6914581b",
   "metadata": {},
   "source": [
    "The following shows a simple fit of a polynomial model on the entire data set:"
   ]
  },
  {
   "cell_type": "code",
   "execution_count": 61,
   "id": "b6cd7ae4",
   "metadata": {},
   "outputs": [
    {
     "data": {
      "image/png": "[encoded data removed]",
      "text/plain": [
       "<Figure size 432x288 with 1 Axes>"
      ]
     },
     "metadata": {
      "needs_background": "light"
     },
     "output_type": "display_data"
    }
   ],
   "source": [
    "reg = PolynomialRegression(3, alpha=0)\n",
    "reg.fit(X, y)\n",
    "\n",
    "x_test = np.linspace(0,1,100)\n",
    "plt.plot(x_test, reg.predict(x_test))\n",
    "plt.scatter(X[:,0], y)\n",
    "plt.show()"
   ]
  },
  {
   "cell_type": "markdown",
   "id": "fc2269d1",
   "metadata": {},
   "source": [
    "Now we test the performance of the polynomial regression model using *Leave One Out CV* (LOO-CV). We use $\\alpha = 0.0$ and test all degrees from $1$ up to $10$. The result should show for each degree the average *mean squared error* (MSE):"
   ]
  },
  {
   "cell_type": "code",
   "execution_count": null,
   "id": "08afc111",
   "metadata": {},
   "outputs": [],
   "source": [
    "# Use GridSearchCV to implement LOO-CV parameter evaluation. Plot the result and draw a vertical line at the optimal parameters (degree)."
   ]
  },
  {
   "cell_type": "markdown",
   "id": "7f7d4118",
   "metadata": {},
   "source": [
    "---\n",
    "# 1.4 Polynomial kernel regression\n",
    "---"
   ]
  },
  {
   "cell_type": "markdown",
   "id": "2d1d7787",
   "metadata": {},
   "source": [
    "The *KernelPolynomialRegression* class implements the corresponding kernel version of our polynomial regression model."
   ]
  },
  {
   "cell_type": "code",
   "execution_count": 87,
   "id": "cdde4d81",
   "metadata": {},
   "outputs": [],
   "source": [
    "class KernelPolynomialRegression:\n",
    "    def __init__(self, degree=1, alpha=0.0):\n",
    "        self.degree = degree\n",
    "        self.eta    = None\n",
    "        self.alpha  = alpha\n",
    "        self.F      = None\n",
    "    \n",
    "    def fit(self, X, y):\n",
    "        # Please use *np.linalg.pinv* to compute matrix inverses\n",
    "\n",
    "    def predict(self, X):\n",
    "        # Complete the implementation\n",
    "\n",
    "    def set_params(self, **parameters):\n",
    "        for parameter, value in parameters.items():\n",
    "            setattr(self, parameter, value)\n",
    "        return self\n",
    "\n",
    "    def get_params(self, deep=True):\n",
    "        return {\"degree\" : self.degree, \"alpha\" : self.alpha}"
   ]
  },
  {
   "cell_type": "markdown",
   "id": "ee222091",
   "metadata": {},
   "source": [
    "The folloging shows a comparison of the the polynomal regression and the kernel version:"
   ]
  },
  {
   "cell_type": "code",
   "execution_count": null,
   "id": "99b1f000",
   "metadata": {},
   "outputs": [],
   "source": [
    "reg1 = KernelPolynomialRegression(10, alpha=0.0)\n",
    "reg1.fit(X, y)\n",
    "reg2 = PolynomialRegression(10, alpha=0.0)\n",
    "reg2.fit(X, y)\n",
    "\n",
    "x_test = np.linspace(0,1,100)\n",
    "plt.plot(x_test, reg1.predict(x_test), color='red')\n",
    "plt.plot(x_test, reg2.predict(x_test))\n",
    "plt.scatter(X[:,0], y)\n",
    "plt.ylim(-2,2)\n",
    "plt.show()"
   ]
  },
  {
   "cell_type": "markdown",
   "id": "9a72b9e6",
   "metadata": {},
   "source": [
    "---\n",
    "# 1.5 Performance comparison of polynomial kernel regression\n",
    "---"
   ]
  },
  {
   "cell_type": "markdown",
   "id": "f9ed1188",
   "metadata": {},
   "source": [
    "We compare the performance of the kernel regression model to standard polynomial regression using LOO-CV. We use $\\alpha = 0.0$ and test all degrees from $1$ up to $20$. Plot for both methods and each degree the average *mean squared error* (MSE):"
   ]
  },
  {
   "cell_type": "code",
   "execution_count": null,
   "id": "f672213e",
   "metadata": {},
   "outputs": [],
   "source": []
  },
  {
   "cell_type": "markdown",
   "id": "4415f536",
   "metadata": {},
   "source": [
    "---\n",
    "# 1.5 Performance comparison of polynomial kernel regression with penalty\n",
    "---"
   ]
  },
  {
   "cell_type": "markdown",
   "id": "1393b9ad",
   "metadata": {},
   "source": [
    "We fix the maximum degree to 15 and now test several penalty strengths, i.e.\n",
    "$$\n",
    "    \\alpha = 0.001, 0.005, 0.01, 0.02, 0.05, 0.1\n",
    "$$\n",
    "Plot the performance of both polynomial and polynomial kernel regression using LOO-CV and MSE as error measure."
   ]
  },
  {
   "cell_type": "code",
   "execution_count": null,
   "id": "5fb2307b",
   "metadata": {},
   "outputs": [],
   "source": []
  },
  {
   "cell_type": "markdown",
   "id": "0c4cd543",
   "metadata": {},
   "source": [
    "---\n",
    "# Assignment 2: Prediction of gene expression from promoter sequences\n",
    "---\n",
    "### Import data\n",
    "---"
   ]
  },
  {
   "cell_type": "markdown",
   "id": "55cba93b",
   "metadata": {},
   "source": [
    "For importing the gene expression data, please make sure that you have an up to date version of pandas installed. We used version *1.4.2* for preparing the data. If this conflicts with your python environment, you might try to use a separate *conda environment* for our excercises."
   ]
  },
  {
   "cell_type": "code",
   "execution_count": 2,
   "id": "f20af57b",
   "metadata": {},
   "outputs": [],
   "source": [
    "path_to_training_file = 'exercise-08-data/gene_expression_liver_featurized.pkl.gz'\n",
    "\n",
    "with gzip.open(path_to_training_file, 'rb') as f:\n",
    "    X_raw, y_raw = pickle.load(f)\n",
    "\n",
    "# Reduce data size\n",
    "X_raw = X_raw[0:5000]\n",
    "y_raw = y_raw[0:5000]"
   ]
  },
  {
   "cell_type": "markdown",
   "id": "a309d8c3",
   "metadata": {},
   "source": [
    "---\n",
    "### Outlier removal and normalization\n",
    "---"
   ]
  },
  {
   "cell_type": "code",
   "execution_count": 3,
   "id": "35a5d142",
   "metadata": {},
   "outputs": [],
   "source": [
    "y_threshold = 10000\n",
    "\n",
    "X = StandardScaler().fit_transform(X_raw[y_raw < y_threshold])\n",
    "y = np.log(1.0 + y_raw[y_raw < y_threshold])"
   ]
  },
  {
   "cell_type": "markdown",
   "id": "9f483552",
   "metadata": {},
   "source": [
    "---\n",
    "### Histogram\n",
    "---"
   ]
  },
  {
   "cell_type": "code",
   "execution_count": 4,
   "id": "10bfe47e",
   "metadata": {},
   "outputs": [
    {
     "data": {
      "image/png": "[encoded data removed]",
      "text/plain": [
       "<Figure size 432x288 with 1 Axes>"
      ]
     },
     "metadata": {
      "needs_background": "light"
     },
     "output_type": "display_data"
    }
   ],
   "source": [
    "plt.hist(y, bins=50)\n",
    "plt.yscale('log')\n",
    "plt.show()"
   ]
  },
  {
   "cell_type": "markdown",
   "id": "a5fbf5d0",
   "metadata": {},
   "source": [
    "---\n",
    "## 2.1 Performance of linear regression\n",
    "---"
   ]
  },
  {
   "cell_type": "markdown",
   "id": "6fefa815",
   "metadata": {},
   "source": [
    "As a first example, we evaluate the performance of a linear regression model. Please use *LinearRegression* from scikit-learn. We use the *KFold* class of scikit-learn to implement 5-fold CV with random shuffling of the data $(X, y)$ and a random state of 42 (in order to obtain comparable results). The final result should show the average $R^2$ over all 5 CV folds."
   ]
  },
  {
   "cell_type": "code",
   "execution_count": null,
   "id": "07f56e0a",
   "metadata": {},
   "outputs": [],
   "source": []
  },
  {
   "cell_type": "markdown",
   "id": "fb87deb3",
   "metadata": {},
   "source": [
    "---\n",
    "## 2.2 Performance of kernel regression\n",
    "---"
   ]
  },
  {
   "cell_type": "markdown",
   "id": "db808c27",
   "metadata": {},
   "source": [
    "We now turn our attention to kernel regression and make use of the implementation in scikit-learn. We use the *KernelRidge* regressor in combination with the *rbf* kernel and keep $\\gamma = 0.001$ fixed. The parameter $\\alpha$ will be subject to optimization, for which we use *GridSearchCV* to test the following parameter values $\\alpha = 0, 0.3, 0.6, 0.9, 1.2, 1.5, 1.8, 2.1, 2.4, 2.7, 3$. The training procedure of kernel regression is too expensive for a fully-fledged k-fold CV. Instead, we use *ShuffleSplit* with only two splits, a training size of $1000$ samples and a random state of 42."
   ]
  },
  {
   "cell_type": "code",
   "execution_count": null,
   "id": "9a3e55d3",
   "metadata": {},
   "outputs": [],
   "source": []
  }
 ],
 "metadata": {
  "interpreter": {
   "hash": "455cf986ca906ec73b0c465b8643fc66db1807f72f4ede93b7b09e2f49b4a253"
  },
  "kernelspec": {
   "display_name": "Python 3 (ipykernel)",
   "language": "python",
   "name": "python3"
  },
  "language_info": {
   "codemirror_mode": {
    "name": "ipython",
    "version": 3
   },
   "file_extension": ".py",
   "mimetype": "text/x-python",
   "name": "python",
   "nbconvert_exporter": "python",
   "pygments_lexer": "ipython3",
   "version": "3.11.5"
  }
 },
 "nbformat": 4,
 "nbformat_minor": 5
}
