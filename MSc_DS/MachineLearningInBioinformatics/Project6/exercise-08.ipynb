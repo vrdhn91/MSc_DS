{
 "cells": [
  {
   "cell_type": "markdown",
   "id": "73d62c20",
   "metadata": {},
   "source": [
    "<h1 align=\"center\">Machine Learning for Bioinformatics</h1>\n",
    "<h3 align=\"center\">Freie Universität Berlin - SoS 2024</h3>\n",
    "<h5 align=\"center\">Exercise Notebook Week 8 - Artificial Neural Networks</h5>\n",
    "<hr style=\"border:2px solid gray\">"
   ]
  },
  {
   "cell_type": "markdown",
   "id": "9a3d8392",
   "metadata": {},
   "source": [
    "### Import python packages\n",
    "---"
   ]
  },
  {
   "cell_type": "code",
   "execution_count": 1,
   "id": "84afe847",
   "metadata": {},
   "outputs": [],
   "source": [
    "import torch\n",
    "import numpy as np\n",
    "import matplotlib.pyplot as plt\n",
    "\n",
    "from collections import Counter\n",
    "from torch.utils.data import Dataset, DataLoader\n",
    "from sklearn.metrics import confusion_matrix"
   ]
  },
  {
   "cell_type": "code",
   "execution_count": null,
   "id": "409b8ead",
   "metadata": {},
   "outputs": [],
   "source": [
    "# Import torchvision (optional)\n",
    "import torchvision.transforms as transforms\n",
    "from torchvision import datasets"
   ]
  },
  {
   "cell_type": "markdown",
   "id": "44b7d676",
   "metadata": {},
   "source": [
    "---\n",
    "# Assignment 1: Introduction to PyTorch (optional)\n",
    "---"
   ]
  },
  {
   "cell_type": "markdown",
   "id": "652a05d0",
   "metadata": {},
   "source": [
    "Install Torch for Python. Instructions are available [here](https://pytorch.org/get-started/locally/)."
   ]
  },
  {
   "cell_type": "markdown",
   "id": "e3829c00",
   "metadata": {},
   "source": [
    "---\n",
    "## 1.1 Tensors\n",
    "---\n",
    "Tensors are a special data structures implemented in the torch library. They are very similar to Numpy ndarrays and have most of their functionalities. However, they can be pushed to GPUs where fast linear algebra operations are available. In addition, torch tensors implement automatic differentiation, a computational method to compute derivatives of arbitrary differentiable functions. This is crucial for training complex neural networks or estimating the parameters of statistical models. With torch (and tensorflow), we can easily define functions that we want to optimize and use gradient descent methods to compute optimizers without the need to explicitly derive the gradients. However, in order for this to work, we must rely solely on functions and data structures provided by torch.\n"
   ]
  },
  {
   "cell_type": "code",
   "execution_count": 7,
   "id": "f81fe98f",
   "metadata": {},
   "outputs": [
    {
     "name": "stdout",
     "output_type": "stream",
     "text": [
      "Tensor from list: \n",
      " tensor([[1, 2],\n",
      "        [3, 4]])\n"
     ]
    }
   ],
   "source": [
    "# Convert your data in list of lists format into tensor:\n",
    "data = [[1, 2],[3, 4]]\n",
    "t_data = torch.tensor(data)\n",
    "print(f\"Tensor from list:\\n{t_data}\")"
   ]
  },
  {
   "cell_type": "code",
   "execution_count": 8,
   "id": "c778e54d",
   "metadata": {},
   "outputs": [
    {
     "name": "stdout",
     "output_type": "stream",
     "text": [
      "Tensor of floats from list: \n",
      "tensor([[1., 2.],\n",
      "        [3., 4.]])\n"
     ]
    }
   ],
   "source": [
    "# Convert your data in list of lists format into tensor of specific type:\n",
    "f_tensor = torch.FloatTensor([[1,2], [3,4]])\n",
    "print(f\"Tensor of floats from list:\\n{f_tensor}\")"
   ]
  },
  {
   "cell_type": "code",
   "execution_count": 9,
   "id": "714e68f2",
   "metadata": {},
   "outputs": [
    {
     "name": "stdout",
     "output_type": "stream",
     "text": [
      "Tensor from numpy array: \n",
      " tensor([[1, 2],\n",
      "        [3, 4]])\n"
     ]
    }
   ],
   "source": [
    "# Convert a numpy array into tensor:\n",
    "np_array = np.array(data)\n",
    "t_np = torch.from_numpy(np_array)\n",
    "print(f\"Tensor from numpy array:\\n{t_np}\")"
   ]
  },
  {
   "cell_type": "code",
   "execution_count": 10,
   "id": "1b52e0b5",
   "metadata": {},
   "outputs": [
    {
     "name": "stdout",
     "output_type": "stream",
     "text": [
      "Ones Tensor: \n",
      " tensor([[0, 0],\n",
      "        [0, 0]])\n"
     ]
    }
   ],
   "source": [
    "# Create tensor from another existing one\n",
    "t_ones = torch.zeros_like(t_data) \n",
    "print(f\"Ones Tensor:\\n{t_ones}\")"
   ]
  },
  {
   "cell_type": "code",
   "execution_count": 11,
   "id": "6bfc0729",
   "metadata": {},
   "outputs": [
    {
     "name": "stdout",
     "output_type": "stream",
     "text": [
      "Random Tensor: \n",
      " tensor([[0.2187, 0.0454],\n",
      "        [0.9338, 0.2960]])\n"
     ]
    }
   ],
   "source": [
    "# Create tensor of same shape as existing one, fill with random values of specified datatype\n",
    "t_rand = torch.rand_like(t_data, dtype=torch.float) \n",
    "print(f\"Random Tensor:\\n{t_rand}\")"
   ]
  },
  {
   "cell_type": "code",
   "execution_count": 12,
   "id": "7276aa2f",
   "metadata": {},
   "outputs": [
    {
     "name": "stdout",
     "output_type": "stream",
     "text": [
      "Random Tensor: \n",
      " tensor([[0.8740, 0.2653, 0.1753],\n",
      "        [0.2033, 0.1032, 0.5022]])\n"
     ]
    }
   ],
   "source": [
    "# Create tensor for some shape and fill it with random values\n",
    "shape = (2,3,)\n",
    "rand_tensor = torch.rand(shape)\n",
    "print(f\"Random Tensor:\\n{rand_tensor}\")"
   ]
  },
  {
   "cell_type": "code",
   "execution_count": 13,
   "id": "98bdee01",
   "metadata": {},
   "outputs": [
    {
     "name": "stdout",
     "output_type": "stream",
     "text": [
      "numpy array from tensor: \n",
      " [[0.8740256  0.26525438 0.17526346]\n",
      " [0.20334685 0.10315782 0.5021802 ]]\n"
     ]
    }
   ],
   "source": [
    "# Go back to numpy array\n",
    "rand_array = rand_tensor.numpy()\n",
    "print(f\"numpy array from tensor:\\n{rand_array}\")"
   ]
  },
  {
   "cell_type": "code",
   "execution_count": 14,
   "id": "55bc1406",
   "metadata": {},
   "outputs": [
    {
     "name": "stdout",
     "output_type": "stream",
     "text": [
      "torch.Size([2, 3])\n",
      "torch.float32\n",
      "cpu\n"
     ]
    }
   ],
   "source": [
    "# Some of the attributes of a tensor\n",
    "print(rand_tensor.shape)\n",
    "print(rand_tensor.dtype)\n",
    "print(rand_tensor.device)"
   ]
  },
  {
   "cell_type": "code",
   "execution_count": 15,
   "id": "e55916d2",
   "metadata": {},
   "outputs": [
    {
     "name": "stdout",
     "output_type": "stream",
     "text": [
      "t: tensor([0., 0., 0., 0., 0.], dtype=torch.float64)\n",
      "new t: tensor([1., 1., 1., 1., 1.], dtype=torch.float64)\n",
      "new n: [1. 1. 1. 1. 1.]\n"
     ]
    }
   ],
   "source": [
    "# Numpy-tensor conversion\n",
    "n = np.zeros(5)\n",
    "t = torch.from_numpy(n)\n",
    "print(f\"t: {t}\")\n",
    "np.add(n, 1, out=n) # change the numpy array and look what happens with tensor\n",
    "print(f\"new t: {t}\")\n",
    "print(f\"new n: {n}\")"
   ]
  },
  {
   "cell_type": "markdown",
   "id": "5589077b",
   "metadata": {},
   "source": [
    "---\n",
    "## 1.2 Loading data\n",
    "---\n",
    "PyTorch and related packages come with a great number of datasets or simple wrappers to quickly access well known benchmark sets. You can access them by using domain specific packages - in our case from `torchvision`.\n",
    "\n",
    "The `Dataset` from `torch.utils.data` stores the samples and their corresponding labels. You can transform your data to tensors in this step and also normalize, augument or manipulate your imagea in some way. `ToTensor` converts a PIL image or NumPy ndarray into a FloatTensor, scales the image pixel intensity values to a range of $[0, 1]$.\n",
    "\n",
    "We will be downloading the infamous MNIST dataset. It is a collection of handwritten digits, that were size-normalized and centered in 28 x 28 pixels image. The Training and test sets contain 60000 and 10000 images respectively.\n",
    "\n",
    "The `DataLoader` from `torch.utils.data` wraps an iterable around your `Dataset` for an easy access. `DataLoader` provides a convinient way of representing a data with its' corresponding label. Typically, we train our model in batches and also shuffle samples in each epoch to reduce overfitting, this is implemented in a user-friendly API."
   ]
  },
  {
   "cell_type": "code",
   "execution_count": null,
   "id": "d38a7792",
   "metadata": {},
   "outputs": [],
   "source": [
    "training_data = datasets.MNIST(      # specify the name of the dataset\n",
    "    root=\"data\",                     # path where the train/test data is stored,\n",
    "    train=True,                      # specifies training or test dataset\n",
    "    download=True,                   # downloads the data if it is not available at root\n",
    "    transform=transforms.ToTensor()  # transform and target_transform specify the feature and label transformations\n",
    ")\n",
    "\n",
    "test_data = datasets.MNIST(\n",
    "    root=\"data\",\n",
    "    train=False,\n",
    "    download=True,\n",
    "    transform=transforms.ToTensor()\n",
    ")\n",
    "\n",
    "print(f\" Shape of training data {training_data.data.shape}\")\n",
    "print(f\" Shape of test data {test_data.data.shape}\")\n",
    "\n",
    "batch_size   = 64\n",
    "train_loader = DataLoader(training_data, batch_size=batch_size, shuffle=True)\n",
    "test_loader  = DataLoader(    test_data, batch_size=batch_size, shuffle=True)"
   ]
  },
  {
   "cell_type": "code",
   "execution_count": 8,
   "id": "c95668d6",
   "metadata": {},
   "outputs": [
    {
     "data": {
      "image/png": "[encoded data removed]",
      "text/plain": [
       "<Figure size 1296x432 with 20 Axes>"
      ]
     },
     "metadata": {
      "needs_background": "light"
     },
     "output_type": "display_data"
    }
   ],
   "source": [
    "# let's have a look at some of the images\n",
    "\n",
    "import matplotlib.pyplot as plt\n",
    "\n",
    "figure = plt.figure(figsize=(18, 6))\n",
    "cols, rows = 10, 2\n",
    "for i in range(1, cols * rows + 1):\n",
    "    sample_idx = torch.randint(len(training_data), size=(1,)).item()\n",
    "    img, label = training_data[sample_idx]\n",
    "    figure.add_subplot(rows, cols, i)\n",
    "    plt.title(label)\n",
    "    plt.axis(\"off\")\n",
    "    plt.imshow(img.squeeze(), cmap=\"gray\")\n",
    "plt.show()"
   ]
  },
  {
   "cell_type": "code",
   "execution_count": 9,
   "id": "eddb1534",
   "metadata": {},
   "outputs": [
    {
     "name": "stdout",
     "output_type": "stream",
     "text": [
      "Feature batch shape: torch.Size([64, 1, 28, 28])\n",
      "Labels batch shape: torch.Size([64])\n"
     ]
    },
    {
     "data": {
      "image/png": "[encoded data removed]",
      "text/plain": [
       "<Figure size 432x288 with 1 Axes>"
      ]
     },
     "metadata": {
      "needs_background": "light"
     },
     "output_type": "display_data"
    }
   ],
   "source": [
    "# Display image and label of first sample in first batch\n",
    "train_features, train_labels = next(iter(train_loader))\n",
    "print(f\"Feature batch shape: {train_features.size()}\")\n",
    "print(f\"Labels batch shape: {train_labels.size()}\")\n",
    "img = train_features[0].squeeze()\n",
    "label = train_labels[0]\n",
    "plt.imshow(img, cmap=\"gray\")\n",
    "plt.title(f\"Label: {label}\")\n",
    "plt.show()"
   ]
  },
  {
   "cell_type": "markdown",
   "id": "5547961a",
   "metadata": {},
   "source": [
    "--- \n",
    "## 1.3 Automatic differentiation for computing optimizers\n",
    "---\n",
    "\n",
    "As mentioned, Torch implements automatic differentiation, which makes allows us to easily obtain gradients for arbitrary differentiable functions. We test this feature on the well known Rosenbrock function\n",
    "$$\n",
    "    f(x_1, x_2) = (a - x_1)^2 + b(x_2 - x_1^2)^2\n",
    "$$"
   ]
  },
  {
   "cell_type": "code",
   "execution_count": 55,
   "id": "5a2bb475",
   "metadata": {},
   "outputs": [],
   "source": [
    "def f(x1, x2, a = 1, b = 100):\n",
    "    return (a - x1)**2 + b * (x2 - x1**2)**2"
   ]
  },
  {
   "cell_type": "code",
   "execution_count": 117,
   "id": "31da96d4",
   "metadata": {},
   "outputs": [
    {
     "data": {
      "image/png": "[encoded data removed]",
      "text/plain": [
       "<Figure size 432x288 with 1 Axes>"
      ]
     },
     "metadata": {
      "needs_background": "light"
     },
     "output_type": "display_data"
    }
   ],
   "source": [
    "def plot_rosenbrock(path=None):\n",
    "    x1_min = -1.5\n",
    "    x1_max =  2.0\n",
    "    x2_min = -0.5\n",
    "    x2_max =  3.0\n",
    "\n",
    "    x1, x2 = np.meshgrid(np.arange(x1_min, x1_max, 0.1), np.arange(x2_min, x2_max, 0.1))\n",
    "    y = f(x1, x2)\n",
    "    plt.contour(x1, x2, y, extent=[x1_min, x1_max, x2_min, x2_max], origin='lower', levels=20)\n",
    "    if path is not None:\n",
    "        plt.plot(path[:,0], path[:,1], linestyle='--', marker='o')\n",
    "    plt.show()\n",
    "\n",
    "plot_rosenbrock()"
   ]
  },
  {
   "cell_type": "markdown",
   "id": "ed201b0c",
   "metadata": {},
   "source": [
    "Let's differentiate the function at $(x_1, x_2) = (0, 2)$:"
   ]
  },
  {
   "cell_type": "code",
   "execution_count": 63,
   "id": "8ecafe0b",
   "metadata": {},
   "outputs": [],
   "source": [
    "# Define input variables. Make sure to use `requires_grad=True` to enable automatic differentiation\n",
    "x1 = torch.tensor(0, requires_grad=True, dtype=torch.float32)\n",
    "x2 = torch.tensor(2, requires_grad=True, dtype=torch.float32)\n",
    "# Call our rosenbrock function\n",
    "y = f(x1, x2)\n",
    "# The following command propagates the gradient (partial derivatives) back to the input variables\n",
    "y.backward()"
   ]
  },
  {
   "cell_type": "markdown",
   "id": "c2209305",
   "metadata": {},
   "source": [
    "We can print the gradient $\\nabla f(x_1, x_2) = (\\partial_{x_1}, \\partial_{x_2})^\\top f(x_1, x_2)$ as follows:"
   ]
  },
  {
   "cell_type": "code",
   "execution_count": 62,
   "id": "0c0a16bb",
   "metadata": {},
   "outputs": [
    {
     "name": "stdout",
     "output_type": "stream",
     "text": [
      "gradient: (-2.0, 400.0)\n"
     ]
    }
   ],
   "source": [
    "print(f'gradient: ({x1.grad}, {x2.grad})')"
   ]
  },
  {
   "cell_type": "markdown",
   "id": "0a26337c",
   "metadata": {},
   "source": [
    "It is important to note that automatic differentation does not compute a symbolic form of the partial derivatives! Instead, it computes for each input values the numeric value of the partial derivatives."
   ]
  },
  {
   "cell_type": "code",
   "execution_count": 130,
   "id": "88590a86",
   "metadata": {},
   "outputs": [
    {
     "data": {
      "image/png": "[encoded data removed]",
      "text/plain": [
       "<Figure size 432x288 with 1 Axes>"
      ]
     },
     "metadata": {
      "needs_background": "light"
     },
     "output_type": "display_data"
    }
   ],
   "source": [
    "x1 = torch.tensor(-0.5, requires_grad=True, dtype=torch.float32)\n",
    "x2 = torch.tensor( 2.0, requires_grad=True, dtype=torch.float32)\n",
    "\n",
    "# We hand our variable to the Rprop optimizer, i.e. a gradient descent method\n",
    "opt  = torch.optim.Rprop([x1, x2], lr=0.1)\n",
    "# The optimizer will modify our variables, but we keep a copy of the values at each step\n",
    "path = [[x1.item(), x2.item()]]\n",
    "# The following loop performs several gradient descent steps\n",
    "for i in range(1000):\n",
    "    # Reset all gradient information\n",
    "    opt.zero_grad()\n",
    "    # Call our objective function\n",
    "    y = f(x1, x2)\n",
    "    # Compute gradients\n",
    "    y.backward()\n",
    "    # Perform one gradient step\n",
    "    opt.step()\n",
    "    # Record new values\n",
    "    path.append([x1.item(), x2.item()])\n",
    "\n",
    "# Plot resulting path\n",
    "plot_rosenbrock(path=np.array(path))"
   ]
  },
  {
   "cell_type": "markdown",
   "id": "f7ea22f2",
   "metadata": {},
   "source": [
    "---\n",
    "#  Assignment 2: Numeric version of polynomial regression\n",
    "---\n",
    "In this assignment we implement the same polynomial regression model as we used in a previous exercise. However, instead of relying on the analytical solution for estimating the parameters, we use pytorch to compute numerical solutions."
   ]
  },
  {
   "cell_type": "code",
   "execution_count": 2,
   "id": "ec80b95f",
   "metadata": {},
   "outputs": [],
   "source": [
    "# From our previous exercise...\n",
    "data = np.array([\n",
    "    0.001399613, -0.23436656,\n",
    "    0.971629779,  0.64689524,\n",
    "    0.579119475, -0.92635765,\n",
    "    0.335693937,  0.13000706,\n",
    "    0.736736086, -0.89294863,\n",
    "    0.492572335,  0.33854780,\n",
    "    0.737133774, -1.24171910,\n",
    "    0.563693769, -0.22523318,\n",
    "    0.877603280, -0.12962722,\n",
    "    0.141426545,  0.37632006,\n",
    "    0.307203910,  0.30299077,\n",
    "    0.024509308, -0.21162739,\n",
    "    0.843665029, -0.76468719,\n",
    "    0.771206067, -0.90455412,\n",
    "    0.149670258,  0.77097952,\n",
    "    0.359605608,  0.56466366,\n",
    "    0.049612895,  0.18897607,\n",
    "    0.409898906,  0.32531750,\n",
    "    0.935457898, -0.78703491,\n",
    "    0.149476207,  0.80585375,\n",
    "    0.234315216,  0.62944986,\n",
    "    0.455297119,  0.02353327,\n",
    "    0.102696671,  0.27621694,\n",
    "    0.715372314, -1.20379729,\n",
    "    0.681745393, -0.83059624 ]).reshape(25,2)\n",
    "y = data[:,1]\n",
    "X = data[:,0:1]\n",
    "\n",
    "def compute_polynomial_features(X, degree):\n",
    "    # degree = p+1\n",
    "    x = X if len(X.shape) == 1 else X[:,0]\n",
    "    F = np.array([]).reshape(x.shape[0], 0)\n",
    "    for deg in range(degree+1):\n",
    "        F = np.insert(F, deg, x**deg, axis=1)\n",
    "    return F"
   ]
  },
  {
   "cell_type": "markdown",
   "id": "da771e0a",
   "metadata": {},
   "source": [
    "You can implement a class that will hold your own data. Let's use the data from our polynomial regression exercise. We implement a class that inherits from the `Dataset` class. You must implement the `__init__`, `__len__` and `__getitem__` functions. After that you can load the data into with the `DataLoader` just like before."
   ]
  },
  {
   "cell_type": "code",
   "execution_count": 3,
   "id": "9eeb2f73",
   "metadata": {},
   "outputs": [],
   "source": [
    "class PolynomialFeatures(Dataset):\n",
    "    def __init__(self, X, y, degree=3):\n",
    "        self.X = compute_polynomial_features(X, degree).astype('float32')\n",
    "        self.y = y.astype('float32').reshape(-1,1)\n",
    "\n",
    "    def __len__(self):\n",
    "        return len(self.X)\n",
    "\n",
    "    def __getitem__(self, idx):\n",
    "        return [self.X[idx], self.y[idx]]"
   ]
  },
  {
   "cell_type": "code",
   "execution_count": 4,
   "id": "b00f2629",
   "metadata": {},
   "outputs": [],
   "source": [
    "# Create a dataset with polynomial features\n",
    "training_data = PolynomialFeatures(X, y, degree=3)"
   ]
  },
  {
   "cell_type": "markdown",
   "id": "eebbbb16",
   "metadata": {},
   "source": [
    "---\n",
    "## 2.1 Build our first model\n",
    "---\n",
    "Create a class that inherits from torch's parental nn.Module. In the `__init__` method specify the layers and activation functions or even the whole sequence of layers and activations you want to implement in your neural network. In the `forward` method push your data through the network you've just described. "
   ]
  },
  {
   "cell_type": "code",
   "execution_count": 5,
   "id": "df8d7ef3",
   "metadata": {},
   "outputs": [],
   "source": [
    "class PolynomialNetwork(torch.nn.Module):\n",
    "    def __init__(self, degree):\n",
    "        super(PolynomialNetwork, self).__init__()\n",
    "        # The Linear class defines a weight matrix W of dimension (p, m), where p\n",
    "        # is the dimension of the input (p features) and m the dimension of the\n",
    "        # output (in our case we have m=1 since the response y has only one\n",
    "        # dimension). We do not use an explicit bias, because we have encoded the\n",
    "        # bias in our feature vectors!\n",
    "        # Complete the implementation using `torch.nn.Linear`\n",
    "\n",
    "    def forward(self, x):\n",
    "        # Calling the linear layer computes the matrix product of x with the\n",
    "        # weight matrix W\n",
    "        return self.linear_layer(x)"
   ]
  },
  {
   "cell_type": "code",
   "execution_count": null,
   "id": "719e883a",
   "metadata": {},
   "outputs": [],
   "source": [
    "model = PolynomialNetwork(degree = 3)\n",
    "print(model)"
   ]
  },
  {
   "cell_type": "markdown",
   "id": "c74cef82",
   "metadata": {},
   "source": [
    "---\n",
    "## 2.2 Training \n",
    "---\n",
    "Training a model always follows the same pattern. Within each iteration, we must feed the data through our model, compute the gradient and update our parameters. In particular, we create a function that iterates over the data, each iteration is called an epoch. Within each epoch, we receive our data in batches. In our case there is only one batch. For each batch there will be a loop where we:\n",
    "\n",
    "1) Call `model.train()`. It doesn't train the model, but lets torch know that we are in a trainig loop. This is important for some functions that behave differently on train/test sets. In our case, it is optional. \n",
    "\n",
    "2) Call our model on the data, which creates an initial prediction by running the forward function.\n",
    "\n",
    "3) Calculate the loss by calling our predefined loss function.\n",
    "\n",
    "4) Set our gradient to zero `zero_grad()`. This is an important step, because otherwise the gradients from prevoious batch/epoch will accumulate. \n",
    "\n",
    "5) Calculate the gradients for parameters with `backward()` call.\n",
    "\n",
    "6) Update model weights based on the computed gradients - `step()` call."
   ]
  },
  {
   "cell_type": "code",
   "execution_count": 7,
   "id": "0ea18467",
   "metadata": {},
   "outputs": [],
   "source": [
    "def train(dataloader, model, loss_fn, optimizer, epochs ):\n",
    "    losses = []\n",
    "\n",
    "    for _ in range(epochs):\n",
    "        for X, y in dataloader:\n",
    "            # Complete the implementation.\n",
    "\n",
    "            # Record loss\n",
    "            losses.append(loss.item())\n",
    "\n",
    "    return losses"
   ]
  },
  {
   "cell_type": "markdown",
   "id": "3a0a72a2",
   "metadata": {},
   "source": [
    "We initialize a new network object and train the parameters:"
   ]
  },
  {
   "cell_type": "code",
   "execution_count": 27,
   "id": "e011b31a",
   "metadata": {},
   "outputs": [],
   "source": [
    "# Create a new polynomial model\n",
    "model = PolynomialNetwork(degree = 3)\n",
    "# Use the mean squared error (MSE) as loss function\n",
    "loss_fn = torch.nn.MSELoss()\n",
    "# We use Rprop as an optimizer, which is a non-stochastic optimizer with an adaptive step size for each variable\n",
    "optimizer = torch.optim.Rprop(model.parameters(), lr=0.5)\n",
    "# Since we use a non-stochastic optimizer, we use a batch_size as big as our training data, hence there is only one batch\n",
    "train_loader = DataLoader(training_data, batch_size = len(training_data))\n",
    "# train data\n",
    "epochs = 10000\n",
    "losses = train(train_loader, model, loss_fn, optimizer, epochs)"
   ]
  },
  {
   "cell_type": "code",
   "execution_count": null,
   "id": "b17108eb",
   "metadata": {},
   "outputs": [],
   "source": [
    "plt.figure(figsize = (8,4))\n",
    "plt.plot(losses, linewidth = 1)\n",
    "plt.xlabel('Iterations')\n",
    "plt.ylabel(\"MSE loss\")\n",
    "plt.show()"
   ]
  },
  {
   "cell_type": "markdown",
   "id": "244e6972",
   "metadata": {},
   "source": [
    "We extract the parameter estimates:"
   ]
  },
  {
   "cell_type": "code",
   "execution_count": null,
   "id": "3655f40b",
   "metadata": {},
   "outputs": [],
   "source": [
    "print(f\" Model weights {model.linear_layer.weight.detach().numpy()[0]}\")"
   ]
  },
  {
   "cell_type": "markdown",
   "id": "6f6dff78",
   "metadata": {},
   "source": [
    "Let's compare the result with the analytical solution, i.e. the *PolynomialRegression* class from our previous exercises."
   ]
  },
  {
   "cell_type": "code",
   "execution_count": 29,
   "id": "3a77fe29",
   "metadata": {},
   "outputs": [],
   "source": [
    "# From our previous exercise:\n",
    "class PolynomialRegression:\n",
    "    def __init__(self, degree=1, alpha=0.0):\n",
    "        self.degree = degree\n",
    "        self.theta  = None\n",
    "        self.alpha  = alpha\n",
    "    \n",
    "    def fit(self, X, y):\n",
    "        F = compute_polynomial_features(X, self.degree)\n",
    "        self.theta = np.linalg.pinv(F.transpose()@F + self.alpha*np.identity(F.shape[1]))@F.transpose()@y\n",
    "\n",
    "    def predict(self, X):\n",
    "        F = compute_polynomial_features(X, self.degree)\n",
    "        return F@self.theta\n",
    "\n",
    "    def set_params(self, **parameters):\n",
    "        for parameter, value in parameters.items():\n",
    "            setattr(self, parameter, value)\n",
    "        return self\n",
    "\n",
    "    def get_params(self, deep=True):\n",
    "        return {\"degree\" : self.degree, \"alpha\" : self.alpha}"
   ]
  },
  {
   "cell_type": "markdown",
   "id": "09153e9e",
   "metadata": {},
   "source": [
    "Visual comparison of the numerical and analytical solution:"
   ]
  },
  {
   "cell_type": "code",
   "execution_count": null,
   "id": "9fafe65c",
   "metadata": {},
   "outputs": [],
   "source": [
    "reg = PolynomialRegression(3, alpha=0)\n",
    "reg.fit(X, y)\n",
    "\n",
    "x_test = np.linspace(0,1,100)\n",
    "x_test_tensor = torch.from_numpy(compute_polynomial_features(x_test, 3).astype('float32'))\n",
    "\n",
    "nn_pred = model.forward(x_test_tensor)\n",
    "nn_pred = nn_pred.detach().numpy()\n",
    "\n",
    "plt.plot(x_test, reg.predict(x_test), color = 'blue', label = 'Analytical solution')\n",
    "plt.plot(x_test, nn_pred, '+', color = 'red', label = 'Numerical solution')\n",
    "plt.scatter(X[:,0], y)\n",
    "plt.legend()\n",
    "plt.show()"
   ]
  },
  {
   "cell_type": "markdown",
   "id": "4f21770c",
   "metadata": {},
   "source": [
    "---\n",
    "# Assignment 3: Spam classification\n",
    "---\n",
    "Use the SPAM data to classify *spam* and *ham* messages with PyTorch. Split the data into representative training and test data, write a simple neural network and train it with your data\n"
   ]
  },
  {
   "cell_type": "code",
   "execution_count": 39,
   "id": "63160c11",
   "metadata": {},
   "outputs": [
    {
     "name": "stdout",
     "output_type": "stream",
     "text": [
      "There are 8753 unique words\n",
      "10 most commom words: [('i', 3021), ('to', 2253), ('you', 2245), ('a', 1450), ('the', 1339), ('u', 1207), ('and', 980), ('in', 903), ('is', 897), ('me', 807)]\n"
     ]
    }
   ],
   "source": [
    "def construct_corpus(data):\n",
    "    \"\"\"\n",
    "    np.array[str, str] -> dict[str:int]\n",
    "    \n",
    "    from a 2D array of str, return a hash table\n",
    "    \"\"\"\n",
    "    corpus = set()\n",
    "    counter = Counter()\n",
    "\n",
    "    for label, text in data:\n",
    "        words = text.split()\n",
    "        corpus.update(words)\n",
    "        counter.update(words)\n",
    "    print(f'There are {len(corpus)} unique words')\n",
    "    print(f'10 most commom words: {counter.most_common(10)}')\n",
    "    return corpus\n",
    "        \n",
    "def recode_messages(data, corpus):\n",
    "    \"\"\"\n",
    "    np.array[str, str] * dict[str:int] -> np.array[int, int]\n",
    "    \n",
    "    returns the binary matrix encoding \n",
    "    \"\"\"\n",
    "    corpus = list(corpus)\n",
    "    corpus_index = {word: i for i, word in enumerate(corpus)}\n",
    "    msg_matrix = np.zeros((len(data), len(corpus)), dtype=bool)\n",
    "    \n",
    "    for msg_index, (_, message) in enumerate(data):\n",
    "        for word in message.split():\n",
    "            msg_matrix[msg_index][corpus_index[word]] = 1\n",
    "    return msg_matrix\n",
    "\n",
    "class SpamData(Dataset):\n",
    "    def __init__(self):\n",
    "        ## Load the dataset\n",
    "        sms_data = np.loadtxt('exercise-08-data/SMSSpamCollection_cleaned.csv', delimiter=\"\\t\", skiprows=1, dtype=str)\n",
    "        # Construct a corpus\n",
    "        self.D = construct_corpus(sms_data)\n",
    "        # Convert sms data into a binary matrix\n",
    "        sms_matrix = recode_messages(sms_data, self.D)\n",
    "        # Convert sms_matrix to a numeric matrix, which can be used as input to our model\n",
    "        self.X = sms_matrix.astype('float32')\n",
    "        # Create a vector on numeric labels\n",
    "        self.y = (sms_data[:,0] == 'spam').astype('float32').reshape(-1,1)\n",
    "\n",
    "    def __len__(self):\n",
    "        return len(self.X)\n",
    "\n",
    "    def __getitem__(self, idx):\n",
    "        return [self.X[idx], self.y[idx]]\n",
    "\n",
    "    def num_features(self):\n",
    "        return self.X.shape[1]\n",
    "\n",
    "spamdata = SpamData()"
   ]
  },
  {
   "cell_type": "markdown",
   "id": "3aeab8fe",
   "metadata": {},
   "source": [
    "---\n",
    "## 3.1 Summary statistics \n",
    "---"
   ]
  },
  {
   "cell_type": "markdown",
   "id": "04cfe8c7",
   "metadata": {},
   "source": [
    "Use `pie` from `matplotlib` to plot the class prevalences of *ham* and *spam* in our `spamdata` object."
   ]
  },
  {
   "cell_type": "code",
   "execution_count": null,
   "id": "e1f4be9f",
   "metadata": {},
   "outputs": [],
   "source": []
  },
  {
   "cell_type": "markdown",
   "id": "fe80d713",
   "metadata": {},
   "source": [
    "---\n",
    "## 3.2 Model definition \n",
    "---"
   ]
  },
  {
   "cell_type": "markdown",
   "id": "8099dbe0",
   "metadata": {},
   "source": [
    "Define a simple neural network with one linear layer and a sigmoid activation function. The model should be equivalent to a logistic regression model. Use `torch.nn.Sequential` for the implementation."
   ]
  },
  {
   "cell_type": "code",
   "execution_count": 44,
   "id": "f2d436d6",
   "metadata": {},
   "outputs": [],
   "source": [
    "class DetectSpamNetwork(torch.nn.Module):\n",
    "    def __init__(self, size):\n",
    "        super(DetectSpamNetwork, self).__init__()\n",
    "        # Complete the implementation\n",
    "\n",
    "\n",
    "    def forward(self, x):\n",
    "        # Complete the implementation\n"
   ]
  },
  {
   "cell_type": "markdown",
   "id": "670cec09",
   "metadata": {},
   "source": [
    "---\n",
    "## 3.3 Training \n",
    "---"
   ]
  },
  {
   "cell_type": "markdown",
   "id": "04018084",
   "metadata": {},
   "source": [
    "Define a simple `Trainer` class that trains and tests our model for a given loss function and optimizer."
   ]
  },
  {
   "cell_type": "code",
   "execution_count": 46,
   "id": "0810461f",
   "metadata": {},
   "outputs": [],
   "source": [
    "class Trainer:\n",
    "    def __init__(self, data_train, data_test, model, loss_fn, optimizer):\n",
    "        self.data_train = data_train\n",
    "        self.data_test  = data_test\n",
    "        self.model      = model\n",
    "        self.loss_fn    = loss_fn\n",
    "        self.optimizer  = optimizer\n",
    "\n",
    "    def train_loop(self, dataloader):\n",
    "        size = len(dataloader.dataset)\n",
    "        for batch, (X, y) in enumerate(dataloader):\n",
    "            # Complete the implementation\n",
    "\n",
    "            if batch % 10 == 0:\n",
    "                loss, current = loss.item(), batch * len(X)\n",
    "                print(f\"loss: {loss:>7f}  [{current:>5d}/{size:>4d}]\")\n",
    "\n",
    "    def test_loop(self, dataloader):\n",
    "        size = len(dataloader.dataset)\n",
    "        num_batches = len(dataloader)\n",
    "        test_loss, correct = 0, 0\n",
    "\n",
    "        with torch.no_grad():\n",
    "            for X, y in dataloader:\n",
    "                self.model.eval()\n",
    "                pred = self.model(X)\n",
    "                test_loss += self.loss_fn(pred, y).item()\n",
    "                correct   += ((pred>0.5) == y).type(torch.float).sum().item()\n",
    "\n",
    "        test_loss /= num_batches\n",
    "        correct   /= size\n",
    "        print(f\"Test Error: \\n Accuracy: {(100*correct):>0.1f}%, Avg loss: {test_loss:>8f}\\n\")\n",
    "\n",
    "    def train(self, epochs, batch_size):\n",
    "        train_loader = DataLoader(self.data_train, batch_size=batch_size)\n",
    "        test_loader  = DataLoader(self.data_test , batch_size=batch_size)\n",
    "        for e in range(epochs):\n",
    "            print(f\"Epoch {e+1}\\n-------------------------------\")\n",
    "            self.train_loop(train_loader)\n",
    "            self. test_loop( test_loader)\n",
    "        print(\"Done!\")"
   ]
  },
  {
   "cell_type": "code",
   "execution_count": null,
   "id": "c3f07807",
   "metadata": {},
   "outputs": [],
   "source": [
    "# Split the data into training and testing\n",
    "data_train, data_test = torch.utils.data.random_split(spamdata, [len(spamdata)-100, 100], generator=torch.Generator().manual_seed(42))\n",
    "\n",
    "# Create a new instance of the DetectSpamNetwork model\n",
    "model = DetectSpamNetwork(spamdata.num_features())\n",
    "# We use the binary cross-entropy loss (BCELoss), which is identical to the likelihood of a logistic regression model\n",
    "loss_fn = torch.nn.BCELoss()\n",
    "# Although we are dealing with a convex optimization problem, we use here a stochastic gradient descent method\n",
    "optimizer = torch.optim.SGD(model.parameters(), momentum = 0.9, lr=0.01)\n",
    "\n",
    "# Execute the training of the network\n",
    "trainer = Trainer(data_train, data_test, model, loss_fn, optimizer)\n",
    "trainer.train(10, 64)"
   ]
  },
  {
   "cell_type": "markdown",
   "id": "748f75e6",
   "metadata": {},
   "source": [
    "---\n",
    "## 3.4 Model interpretation \n",
    "---"
   ]
  },
  {
   "cell_type": "markdown",
   "id": "1ba0a941",
   "metadata": {},
   "source": [
    "Extract the weights from the trained SpamDetectNetwork and store them in a variable called `weights`. Use `bar` from `matplotlib` to plot the weight corresponding to each word. Sort the words according to their weights."
   ]
  },
  {
   "cell_type": "code",
   "execution_count": null,
   "id": "9fdd441a",
   "metadata": {},
   "outputs": [],
   "source": []
  },
  {
   "cell_type": "markdown",
   "id": "93b12150",
   "metadata": {},
   "source": [
    "---\n",
    "## 3.5 Model evaluation \n",
    "---"
   ]
  },
  {
   "cell_type": "markdown",
   "id": "082b6508",
   "metadata": {},
   "source": [
    "Use `confusion_matrix` to plot a confusion matrix. Compute the predictions on the `test_data` and use a threshold of $0.5$ to convert class probabilities to labels."
   ]
  },
  {
   "cell_type": "code",
   "execution_count": null,
   "id": "3b322947",
   "metadata": {},
   "outputs": [],
   "source": []
  }
 ],
 "metadata": {
  "kernelspec": {
   "display_name": "Python 3 (ipykernel)",
   "language": "python",
   "name": "python3"
  },
  "language_info": {
   "codemirror_mode": {
    "name": "ipython",
    "version": 3
   },
   "file_extension": ".py",
   "mimetype": "text/x-python",
   "name": "python",
   "nbconvert_exporter": "python",
   "pygments_lexer": "ipython3",
   "version": "3.11.5"
  },
  "vscode": {
   "interpreter": {
    "hash": "edc2edf56ea13f1e22424e20afa6e48f5488415ce9d428406e2569475df17409"
   }
  }
 },
 "nbformat": 4,
 "nbformat_minor": 5
}
