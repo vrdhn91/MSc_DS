{
 "cells": [
  {
   "cell_type": "markdown",
   "metadata": {},
   "source": [
    "<h1 align=\"center\">Machine Learning for Bioinformatics</h1>\n",
    "<h3 align=\"center\">Freie Universität Berlin - SoS 2024</h3>\n",
    "<h5 align=\"center\">Exercise Notebook 10 - Model Selection</h5>\n",
    "<hr style=\"border:2px solid gray\">"
   ]
  },
  {
   "cell_type": "markdown",
   "metadata": {},
   "source": [
    "### Import python packages\n",
    "---"
   ]
  },
  {
   "cell_type": "code",
   "execution_count": 2,
   "metadata": {},
   "outputs": [],
   "source": [
    "import numpy as np\n",
    "import matplotlib.pyplot as plt\n",
    "\n",
    "from numpy.random import default_rng\n",
    "from sklearn.model_selection import LeaveOneOut, GridSearchCV\n",
    "from sklearn.linear_model import lars_path, Ridge"
   ]
  },
  {
   "cell_type": "markdown",
   "metadata": {},
   "source": [
    "---\n",
    "### Data set\n",
    "---"
   ]
  },
  {
   "cell_type": "code",
   "execution_count": 3,
   "metadata": {},
   "outputs": [
    {
     "data": {
      "image/png": "[encoded data removed]",
      "text/plain": [
       "<Figure size 432x288 with 1 Axes>"
      ]
     },
     "metadata": {
      "needs_background": "light"
     },
     "output_type": "display_data"
    }
   ],
   "source": [
    "data = np.array([\n",
    "    0.001399613, -0.23436656,\n",
    "    0.971629779,  0.64689524,\n",
    "    0.579119475, -0.92635765,\n",
    "    0.335693937,  0.13000706,\n",
    "    0.736736086, -0.89294863,\n",
    "    0.492572335,  0.33854780,\n",
    "    0.737133774, -1.24171910,\n",
    "    0.563693769, -0.22523318,\n",
    "    0.877603280, -0.12962722,\n",
    "    0.141426545,  0.37632006,\n",
    "    0.307203910,  0.30299077,\n",
    "    0.024509308, -0.21162739,\n",
    "    0.843665029, -0.76468719,\n",
    "    0.771206067, -0.90455412,\n",
    "    0.149670258,  0.77097952,\n",
    "    0.359605608,  0.56466366,\n",
    "    0.049612895,  0.18897607,\n",
    "    0.409898906,  0.32531750,\n",
    "    0.935457898, -0.78703491,\n",
    "    0.149476207,  0.80585375,\n",
    "    0.234315216,  0.62944986,\n",
    "    0.455297119,  0.02353327,\n",
    "    0.102696671,  0.27621694,\n",
    "    0.715372314, -1.20379729,\n",
    "    0.681745393, -0.83059624 ]).reshape(25,2)\n",
    "y = data[:,1]\n",
    "X = data[:,0:1]\n",
    "\n",
    "plt.scatter(X[:,0], y)\n",
    "plt.show()"
   ]
  },
  {
   "cell_type": "code",
   "execution_count": 4,
   "metadata": {},
   "outputs": [],
   "source": [
    "def compute_polynomial_features(X, degree, with_intercept=True):\n",
    "    # degree = p+1\n",
    "    x = X if len(X.shape) == 1 else X[:,0]\n",
    "    F = np.array([]).reshape(x.shape[0], 0)\n",
    "    for deg in range(degree+1):\n",
    "        F = np.insert(F, deg, x**deg, axis=1)\n",
    "    if with_intercept:\n",
    "        return F\n",
    "    else:\n",
    "        return F[:,1:]"
   ]
  },
  {
   "cell_type": "markdown",
   "metadata": {},
   "source": [
    "---\n",
    "# Assignment 1: PRESS for linear ridge regression\n",
    "---"
   ]
  },
  {
   "cell_type": "markdown",
   "metadata": {},
   "source": [
    "The *MyRidgeRegressor* class implements ridge regression for an arbitrary set of features $F$ from which is uses only the first $p$ features. This allows us to compute $F$ in advance and then perform ridge regression for varying $p$. In addition *MyRidgeRegressor* implements a method to compute the PRESS statistic."
   ]
  },
  {
   "cell_type": "code",
   "execution_count": 87,
   "metadata": {},
   "outputs": [],
   "source": [
    "class MyRidgeRegressor:\n",
    "    def __init__(self, p=3, alpha=0.0):\n",
    "        self.p     = p\n",
    "        self.theta = None\n",
    "        self.alpha = alpha\n",
    "    \n",
    "    def fit(self, F, y):\n",
    "        F = F[:, 0:self.p]\n",
    "        # Complete the implementation. Please use pinv to compute inverse matrices\n",
    "\n",
    "    def press(self, F, y):\n",
    "        F = F[:, 0:self.p]\n",
    "        # Complete the implementation. Please use pinv to compute inverse matrices\n",
    "\n",
    "    def predict(self, F):\n",
    "        F = F[:, 0:self.p]\n",
    "        return F@self.theta\n",
    "\n",
    "    def set_params(self, **parameters):\n",
    "        for parameter, value in parameters.items():\n",
    "            setattr(self, parameter, value)\n",
    "        return self\n",
    "\n",
    "    def get_params(self, deep=True):\n",
    "        return {\"p\" : self.p, \"alpha\" : self.alpha}"
   ]
  },
  {
   "cell_type": "markdown",
   "metadata": {},
   "source": [
    "---\n",
    "# 1.1 Performance evaluation\n",
    "---"
   ]
  },
  {
   "cell_type": "markdown",
   "metadata": {},
   "source": [
    "We evaluate *MyRidgeRegressor* on the following set of features:"
   ]
  },
  {
   "cell_type": "code",
   "execution_count": 108,
   "metadata": {},
   "outputs": [],
   "source": [
    "F = compute_polynomial_features(X, 9)"
   ]
  },
  {
   "cell_type": "markdown",
   "metadata": {},
   "source": [
    "Please compute and plot the PRESS statistic on $F$ for $p = 1, \\dots, 10$:"
   ]
  },
  {
   "cell_type": "code",
   "execution_count": 109,
   "metadata": {},
   "outputs": [],
   "source": []
  },
  {
   "cell_type": "markdown",
   "metadata": {},
   "source": [
    "Use the PRESS statistic to compute LOO-CV with mean squared error for $p = 1, \\dots, 10$:"
   ]
  },
  {
   "cell_type": "code",
   "execution_count": null,
   "metadata": {},
   "outputs": [],
   "source": []
  },
  {
   "cell_type": "markdown",
   "metadata": {},
   "source": [
    "---\n",
    "# Assignment 2: Degrees of freedom\n",
    "---"
   ]
  },
  {
   "cell_type": "markdown",
   "metadata": {},
   "source": [
    "The function *df* computes the degrees of freedom for linear ridge regression with penalty strength $\\alpha$:"
   ]
  },
  {
   "cell_type": "code",
   "execution_count": 79,
   "metadata": {},
   "outputs": [],
   "source": [
    "def df(F, alpha):\n",
    "    # Complete the implementation of this function"
   ]
  },
  {
   "cell_type": "markdown",
   "metadata": {},
   "source": [
    "---\n",
    "# 2.1 DF as a function of $\\alpha$\n",
    "---"
   ]
  },
  {
   "cell_type": "markdown",
   "metadata": {},
   "source": [
    "We evaluate the degrees of freedom for varying $\\alpha$ on the following data:"
   ]
  },
  {
   "cell_type": "code",
   "execution_count": 112,
   "metadata": {},
   "outputs": [],
   "source": [
    "F = compute_polynomial_features(X, 25)"
   ]
  },
  {
   "cell_type": "markdown",
   "metadata": {},
   "source": [
    "Plot the degrees of freedom for $\\alpha \\in [0, 1]$:"
   ]
  },
  {
   "cell_type": "code",
   "execution_count": null,
   "metadata": {},
   "outputs": [],
   "source": []
  },
  {
   "cell_type": "markdown",
   "metadata": {},
   "source": [
    "---\n",
    "# 2.2 DF as a function of p\n",
    "---"
   ]
  },
  {
   "cell_type": "markdown",
   "metadata": {},
   "source": [
    "We fix $\\alpha = 0$ and evaluate the degrees of freedom for $p = 1, \\dots, 50$:"
   ]
  },
  {
   "cell_type": "code",
   "execution_count": null,
   "metadata": {},
   "outputs": [],
   "source": []
  },
  {
   "cell_type": "markdown",
   "metadata": {},
   "source": [
    "---\n",
    "# Assignment 3: Regularization paths\n",
    "---"
   ]
  },
  {
   "cell_type": "markdown",
   "metadata": {},
   "source": [
    "In this short assignment we compute the regularization paths for $\\ell_1$ and $\\ell_2$ penalties. We use regressors from the *scikit-learn* library, which do not require an explicit representation of the intercept in the feature matrix $F$. Therefore, we use the following feature matrix:"
   ]
  },
  {
   "cell_type": "code",
   "execution_count": 127,
   "metadata": {},
   "outputs": [],
   "source": [
    "F = compute_polynomial_features(X, 10, with_intercept=False)"
   ]
  },
  {
   "cell_type": "markdown",
   "metadata": {},
   "source": [
    "---\n",
    "# 3.1 L1-Regularization (LASSO)\n",
    "---"
   ]
  },
  {
   "cell_type": "markdown",
   "metadata": {},
   "source": [
    "Use *lars_path* with *method='lasso'* to compute the $\\ell_1$ regularization path. Plot the coefficients as a function of $\\alpha$ with a log-scale for the x-axis and a symlog scale for the y-axis. Also, invert the x-axis so that stronger regularization strengths are on the left."
   ]
  },
  {
   "cell_type": "code",
   "execution_count": null,
   "metadata": {},
   "outputs": [],
   "source": []
  },
  {
   "cell_type": "markdown",
   "metadata": {},
   "source": [
    "---\n",
    "# 3.2 L2-Regularization\n",
    "---"
   ]
  },
  {
   "cell_type": "markdown",
   "metadata": {},
   "source": [
    "Unfortunately, *scikit-learn* does not provide a similar method to compute $\\ell_2$ regularization paths. Please consider the following set of $\\alpha$ values:"
   ]
  },
  {
   "cell_type": "code",
   "execution_count": null,
   "metadata": {},
   "outputs": [],
   "source": [
    "n_alphas = 100\n",
    "alphas = np.logspace(-8, -1, n_alphas)"
   ]
  },
  {
   "cell_type": "markdown",
   "metadata": {},
   "source": [
    "Implement a method to compute the $\\ell_2$ regularization path and plot it in the same way as for the $\\ell_1$ path."
   ]
  },
  {
   "cell_type": "code",
   "execution_count": null,
   "metadata": {},
   "outputs": [],
   "source": []
  },
  {
   "cell_type": "markdown",
   "metadata": {},
   "source": [
    "---\n",
    "# Assignment 4: Implicit regularization\n",
    "---"
   ]
  },
  {
   "cell_type": "markdown",
   "metadata": {},
   "source": [
    "## 4.1 Noisy polynomial features\n",
    "---"
   ]
  },
  {
   "cell_type": "markdown",
   "metadata": {},
   "source": [
    "Increasing the number of features not always leads to an increase in model complexity. There are several cases where adding more features actually constraints the model, which we call here *implicit regularization*. For instance, adding features to $F$ that are uncorrelated with $y$ will generally lead to a stronger regularization (e.g. when adding columns to $F$ that are drawn from a normal distribution). Here, we test a different strategy to increase implicit regularization. We implement a function called *compute_noisy_polynomial_features* that computes noisy polynomial features $F$ from $X = (x)$. The $j$-th column of $F \\in \\mathbb{R}^{n \\times p}$ is given by\n",
    "$$\n",
    "    f_j\n",
    "    =\n",
    "    \\begin{cases}\n",
    "        (1, \\dots, 1)^\\top & \\text{if $j = 1$}\\\\\n",
    "        x^{k(j-2)} + \\epsilon_j & \\text{if $j > 1$}\n",
    "    \\end{cases}\n",
    "$$\n",
    "where $k(j) = (j\\mod m) + 1$, $m \\le p$ denotes the maximum degree (*max_degree* parameter) and $\\epsilon_j$ is a vector of $n$ independent draws from a normal distribution with mean $\\mu = 0$ and standard deviation $\\sigma$. With $x^k$ we denote the $k$-th power of each element in $x$."
   ]
  },
  {
   "cell_type": "code",
   "execution_count": 190,
   "metadata": {},
   "outputs": [],
   "source": [
    "def compute_noisy_polynomial_features(X, p, max_degree, scale=0.1, random_state=42):\n",
    "    x = X if len(X.shape) == 1 else X[:,0]\n",
    "    # Please use rng to generate normal samples\n",
    "    rng = default_rng(seed=random_state)\n",
    "    # Please complete the implementation of this function"
   ]
  },
  {
   "cell_type": "markdown",
   "metadata": {},
   "source": [
    "---\n",
    "## 4.2 Double-descent curves for LOO-CV\n",
    "---"
   ]
  },
  {
   "cell_type": "markdown",
   "metadata": {},
   "source": [
    "We apply in the following the *MyRidgeRegressor* to the random polynomial features and evaluate its performance for $\\alpha = 0$, $p = 3, 4, \\dots, 200$, and $\\sigma \\in \\{0.01, 0.02, 0.05\\}$. We use LOO-CV with average mse as score and since $F$ is random we must average over several draws. Keep in mind that you need to vary the *random_state* argument."
   ]
  },
  {
   "cell_type": "code",
   "execution_count": 176,
   "metadata": {},
   "outputs": [],
   "source": [
    "def evaluate_model(X, y, ps, max_degree=15, scale=0.1, runs=10):\n",
    "    # ps: A vector of p values\n",
    "    # max_degree: The maximum degree of our features (m)\n",
    "    # scale: The standard deviation for generating noisy features\n",
    "    # runs: Number of times the LOO-CV is repeated\n",
    "    #\n",
    "    # Complete the implementation of LOO-CV. If i denotes the i-th repetition of LOO-CV, use i as the\n",
    "    # random state (0-based) for generating the noisy polynomial features."
   ]
  },
  {
   "cell_type": "code",
   "execution_count": 397,
   "metadata": {},
   "outputs": [],
   "source": [
    "ps = range(3, 201)\n",
    "scales = [0.01, 0.02, 0.05]\n",
    "result = [ evaluate_model(X, y, ps, scale=scale, runs=100) for scale in scales ]\n",
    "result = np.array(result)"
   ]
  },
  {
   "cell_type": "markdown",
   "metadata": {},
   "source": [
    "Plot the results of LOO-CV, i.e. the average mse as a function of $p$, and use a log-scale for the x- and y-axis. You should obtain three curves for each value of $\\sigma$."
   ]
  },
  {
   "cell_type": "code",
   "execution_count": null,
   "metadata": {},
   "outputs": [],
   "source": []
  }
 ],
 "metadata": {
  "interpreter": {
   "hash": "455cf986ca906ec73b0c465b8643fc66db1807f72f4ede93b7b09e2f49b4a253"
  },
  "kernelspec": {
   "display_name": "Python 3 (ipykernel)",
   "language": "python",
   "name": "python3"
  },
  "language_info": {
   "codemirror_mode": {
    "name": "ipython",
    "version": 3
   },
   "file_extension": ".py",
   "mimetype": "text/x-python",
   "name": "python",
   "nbconvert_exporter": "python",
   "pygments_lexer": "ipython3",
   "version": "3.11.5"
  }
 },
 "nbformat": 4,
 "nbformat_minor": 2
}
